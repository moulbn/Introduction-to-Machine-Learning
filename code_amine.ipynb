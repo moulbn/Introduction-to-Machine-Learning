{
 "cells": [
  {
   "cell_type": "markdown",
   "metadata": {
    "id": "iQ9PtbSBzztP"
   },
   "source": [
    "## Data preparation\n",
    "### Lecture \n",
    "The original dataset has been transformed after an important preprocessing step in this [notebook](https://github.com/wikistat/Exploration/blob/master/GRC-carte_Visa/Explo-R-Visa.ipynb). We skip this step today! "
   ]
  },
  {
   "cell_type": "code",
   "execution_count": 2,
   "metadata": {
    "id": "HLRhAQ5HzztQ"
   },
   "outputs": [],
   "source": [
    "# Library Importation.\n",
    "import numpy as np\n",
    "import pandas as pd\n",
    "import random as rd\n",
    "import matplotlib.pyplot as plt\n",
    "%matplotlib inline\n",
    "from sklearn.model_selection import train_test_split\n",
    "from sklearn.model_selection import GridSearchCV"
   ]
  },
  {
   "cell_type": "code",
   "execution_count": 3,
   "metadata": {
    "id": "BRSf5g7nzztT"
   },
   "outputs": [],
   "source": [
    "# Lecture of the data frame\n",
    "df = pd.read_table('vispremv.dat', delimiter=' ')\n",
    "#Give the size of the dataset"
   ]
  },
  {
   "cell_type": "code",
   "execution_count": 4,
   "metadata": {
    "id": "xRlqVxvrzztX"
   },
   "outputs": [
    {
     "data": {
      "text/html": [
       "<div>\n",
       "<style scoped>\n",
       "    .dataframe tbody tr th:only-of-type {\n",
       "        vertical-align: middle;\n",
       "    }\n",
       "\n",
       "    .dataframe tbody tr th {\n",
       "        vertical-align: top;\n",
       "    }\n",
       "\n",
       "    .dataframe thead th {\n",
       "        text-align: right;\n",
       "    }\n",
       "</style>\n",
       "<table border=\"1\" class=\"dataframe\">\n",
       "  <thead>\n",
       "    <tr style=\"text-align: right;\">\n",
       "      <th></th>\n",
       "      <th>RELAT</th>\n",
       "      <th>AGER</th>\n",
       "      <th>OPGNBL</th>\n",
       "      <th>MOYRVL</th>\n",
       "      <th>TAVEPL</th>\n",
       "      <th>ENDETL</th>\n",
       "      <th>GAGETL</th>\n",
       "      <th>GAGECL</th>\n",
       "      <th>GAGEML</th>\n",
       "      <th>KVUNB</th>\n",
       "      <th>...</th>\n",
       "      <th>UEMNB</th>\n",
       "      <th>XLGNB</th>\n",
       "      <th>XLGMTL</th>\n",
       "      <th>YLVNB</th>\n",
       "      <th>YLVMTL</th>\n",
       "      <th>ROCNB</th>\n",
       "      <th>NPTAG</th>\n",
       "      <th>ITAVCL</th>\n",
       "      <th>HAVEFL</th>\n",
       "      <th>JNBJDL</th>\n",
       "    </tr>\n",
       "  </thead>\n",
       "  <tbody>\n",
       "    <tr>\n",
       "      <th>count</th>\n",
       "      <td>1063.000000</td>\n",
       "      <td>1063.000000</td>\n",
       "      <td>1063.000000</td>\n",
       "      <td>1063.000000</td>\n",
       "      <td>1063.000000</td>\n",
       "      <td>1063.000000</td>\n",
       "      <td>1063.000000</td>\n",
       "      <td>1063.000000</td>\n",
       "      <td>1063.000000</td>\n",
       "      <td>1063.000000</td>\n",
       "      <td>...</td>\n",
       "      <td>1063.000000</td>\n",
       "      <td>1063.000000</td>\n",
       "      <td>1063.000000</td>\n",
       "      <td>1063.000000</td>\n",
       "      <td>1063.000000</td>\n",
       "      <td>1063.000000</td>\n",
       "      <td>1063.000000</td>\n",
       "      <td>1063.000000</td>\n",
       "      <td>1063.000000</td>\n",
       "      <td>1063.000000</td>\n",
       "    </tr>\n",
       "    <tr>\n",
       "      <th>mean</th>\n",
       "      <td>132.574788</td>\n",
       "      <td>42.573848</td>\n",
       "      <td>0.627211</td>\n",
       "      <td>2.371296</td>\n",
       "      <td>6.715418</td>\n",
       "      <td>0.827903</td>\n",
       "      <td>4.477338</td>\n",
       "      <td>1.868891</td>\n",
       "      <td>2.394713</td>\n",
       "      <td>1.028222</td>\n",
       "      <td>...</td>\n",
       "      <td>1.468485</td>\n",
       "      <td>0.649106</td>\n",
       "      <td>4.161701</td>\n",
       "      <td>0.760113</td>\n",
       "      <td>4.726685</td>\n",
       "      <td>8.564440</td>\n",
       "      <td>0.136406</td>\n",
       "      <td>9.373976</td>\n",
       "      <td>3.043170</td>\n",
       "      <td>1.189791</td>\n",
       "    </tr>\n",
       "    <tr>\n",
       "      <th>std</th>\n",
       "      <td>93.499830</td>\n",
       "      <td>11.912343</td>\n",
       "      <td>0.685315</td>\n",
       "      <td>1.464376</td>\n",
       "      <td>4.907295</td>\n",
       "      <td>1.279475</td>\n",
       "      <td>5.473534</td>\n",
       "      <td>3.680483</td>\n",
       "      <td>4.540024</td>\n",
       "      <td>0.501554</td>\n",
       "      <td>...</td>\n",
       "      <td>1.280262</td>\n",
       "      <td>0.794352</td>\n",
       "      <td>5.205502</td>\n",
       "      <td>0.782235</td>\n",
       "      <td>4.662683</td>\n",
       "      <td>11.738092</td>\n",
       "      <td>0.379837</td>\n",
       "      <td>3.313518</td>\n",
       "      <td>4.665580</td>\n",
       "      <td>1.587594</td>\n",
       "    </tr>\n",
       "    <tr>\n",
       "      <th>min</th>\n",
       "      <td>-2.000000</td>\n",
       "      <td>18.000000</td>\n",
       "      <td>0.000000</td>\n",
       "      <td>0.000000</td>\n",
       "      <td>0.000000</td>\n",
       "      <td>0.000000</td>\n",
       "      <td>0.000000</td>\n",
       "      <td>0.000000</td>\n",
       "      <td>0.000000</td>\n",
       "      <td>0.000000</td>\n",
       "      <td>...</td>\n",
       "      <td>0.000000</td>\n",
       "      <td>0.000000</td>\n",
       "      <td>0.000000</td>\n",
       "      <td>0.000000</td>\n",
       "      <td>0.000000</td>\n",
       "      <td>0.000000</td>\n",
       "      <td>0.000000</td>\n",
       "      <td>0.000000</td>\n",
       "      <td>0.000000</td>\n",
       "      <td>0.000000</td>\n",
       "    </tr>\n",
       "    <tr>\n",
       "      <th>25%</th>\n",
       "      <td>42.500000</td>\n",
       "      <td>33.000000</td>\n",
       "      <td>0.000000</td>\n",
       "      <td>1.386294</td>\n",
       "      <td>0.000000</td>\n",
       "      <td>0.000000</td>\n",
       "      <td>0.000000</td>\n",
       "      <td>0.000000</td>\n",
       "      <td>0.000000</td>\n",
       "      <td>1.000000</td>\n",
       "      <td>...</td>\n",
       "      <td>0.000000</td>\n",
       "      <td>0.000000</td>\n",
       "      <td>0.000000</td>\n",
       "      <td>0.000000</td>\n",
       "      <td>0.000000</td>\n",
       "      <td>0.000000</td>\n",
       "      <td>0.000000</td>\n",
       "      <td>8.067305</td>\n",
       "      <td>0.000000</td>\n",
       "      <td>0.000000</td>\n",
       "    </tr>\n",
       "    <tr>\n",
       "      <th>50%</th>\n",
       "      <td>130.000000</td>\n",
       "      <td>43.000000</td>\n",
       "      <td>0.693147</td>\n",
       "      <td>2.564949</td>\n",
       "      <td>8.652248</td>\n",
       "      <td>0.000000</td>\n",
       "      <td>0.000000</td>\n",
       "      <td>0.000000</td>\n",
       "      <td>0.000000</td>\n",
       "      <td>1.000000</td>\n",
       "      <td>...</td>\n",
       "      <td>1.000000</td>\n",
       "      <td>0.000000</td>\n",
       "      <td>0.000000</td>\n",
       "      <td>1.000000</td>\n",
       "      <td>4.882802</td>\n",
       "      <td>2.000000</td>\n",
       "      <td>0.000000</td>\n",
       "      <td>10.075969</td>\n",
       "      <td>0.000000</td>\n",
       "      <td>0.000000</td>\n",
       "    </tr>\n",
       "    <tr>\n",
       "      <th>75%</th>\n",
       "      <td>204.500000</td>\n",
       "      <td>52.000000</td>\n",
       "      <td>1.098612</td>\n",
       "      <td>3.349750</td>\n",
       "      <td>10.962298</td>\n",
       "      <td>1.945910</td>\n",
       "      <td>10.483833</td>\n",
       "      <td>0.000000</td>\n",
       "      <td>0.000000</td>\n",
       "      <td>1.000000</td>\n",
       "      <td>...</td>\n",
       "      <td>2.000000</td>\n",
       "      <td>1.000000</td>\n",
       "      <td>10.033572</td>\n",
       "      <td>1.000000</td>\n",
       "      <td>9.651494</td>\n",
       "      <td>14.000000</td>\n",
       "      <td>0.000000</td>\n",
       "      <td>11.649131</td>\n",
       "      <td>6.216606</td>\n",
       "      <td>2.441401</td>\n",
       "    </tr>\n",
       "    <tr>\n",
       "      <th>max</th>\n",
       "      <td>393.000000</td>\n",
       "      <td>65.000000</td>\n",
       "      <td>3.367296</td>\n",
       "      <td>7.451242</td>\n",
       "      <td>13.785052</td>\n",
       "      <td>4.605170</td>\n",
       "      <td>15.060512</td>\n",
       "      <td>13.123924</td>\n",
       "      <td>14.296852</td>\n",
       "      <td>4.000000</td>\n",
       "      <td>...</td>\n",
       "      <td>9.000000</td>\n",
       "      <td>4.000000</td>\n",
       "      <td>13.270100</td>\n",
       "      <td>4.000000</td>\n",
       "      <td>13.785052</td>\n",
       "      <td>69.000000</td>\n",
       "      <td>4.000000</td>\n",
       "      <td>16.045468</td>\n",
       "      <td>15.770893</td>\n",
       "      <td>4.905275</td>\n",
       "    </tr>\n",
       "  </tbody>\n",
       "</table>\n",
       "<p>8 rows × 28 columns</p>\n",
       "</div>"
      ],
      "text/plain": [
       "             RELAT         AGER       OPGNBL       MOYRVL       TAVEPL  \\\n",
       "count  1063.000000  1063.000000  1063.000000  1063.000000  1063.000000   \n",
       "mean    132.574788    42.573848     0.627211     2.371296     6.715418   \n",
       "std      93.499830    11.912343     0.685315     1.464376     4.907295   \n",
       "min      -2.000000    18.000000     0.000000     0.000000     0.000000   \n",
       "25%      42.500000    33.000000     0.000000     1.386294     0.000000   \n",
       "50%     130.000000    43.000000     0.693147     2.564949     8.652248   \n",
       "75%     204.500000    52.000000     1.098612     3.349750    10.962298   \n",
       "max     393.000000    65.000000     3.367296     7.451242    13.785052   \n",
       "\n",
       "            ENDETL       GAGETL       GAGECL       GAGEML        KVUNB  ...  \\\n",
       "count  1063.000000  1063.000000  1063.000000  1063.000000  1063.000000  ...   \n",
       "mean      0.827903     4.477338     1.868891     2.394713     1.028222  ...   \n",
       "std       1.279475     5.473534     3.680483     4.540024     0.501554  ...   \n",
       "min       0.000000     0.000000     0.000000     0.000000     0.000000  ...   \n",
       "25%       0.000000     0.000000     0.000000     0.000000     1.000000  ...   \n",
       "50%       0.000000     0.000000     0.000000     0.000000     1.000000  ...   \n",
       "75%       1.945910    10.483833     0.000000     0.000000     1.000000  ...   \n",
       "max       4.605170    15.060512    13.123924    14.296852     4.000000  ...   \n",
       "\n",
       "             UEMNB        XLGNB       XLGMTL        YLVNB       YLVMTL  \\\n",
       "count  1063.000000  1063.000000  1063.000000  1063.000000  1063.000000   \n",
       "mean      1.468485     0.649106     4.161701     0.760113     4.726685   \n",
       "std       1.280262     0.794352     5.205502     0.782235     4.662683   \n",
       "min       0.000000     0.000000     0.000000     0.000000     0.000000   \n",
       "25%       0.000000     0.000000     0.000000     0.000000     0.000000   \n",
       "50%       1.000000     0.000000     0.000000     1.000000     4.882802   \n",
       "75%       2.000000     1.000000    10.033572     1.000000     9.651494   \n",
       "max       9.000000     4.000000    13.270100     4.000000    13.785052   \n",
       "\n",
       "             ROCNB        NPTAG       ITAVCL       HAVEFL       JNBJDL  \n",
       "count  1063.000000  1063.000000  1063.000000  1063.000000  1063.000000  \n",
       "mean      8.564440     0.136406     9.373976     3.043170     1.189791  \n",
       "std      11.738092     0.379837     3.313518     4.665580     1.587594  \n",
       "min       0.000000     0.000000     0.000000     0.000000     0.000000  \n",
       "25%       0.000000     0.000000     8.067305     0.000000     0.000000  \n",
       "50%       2.000000     0.000000    10.075969     0.000000     0.000000  \n",
       "75%      14.000000     0.000000    11.649131     6.216606     2.441401  \n",
       "max      69.000000     4.000000    16.045468    15.770893     4.905275  \n",
       "\n",
       "[8 rows x 28 columns]"
      ]
     },
     "execution_count": 4,
     "metadata": {},
     "output_type": "execute_result"
    }
   ],
   "source": [
    "# Produce a list of quantitative variables\n",
    "df.describe()"
   ]
  },
  {
   "cell_type": "markdown",
   "metadata": {
    "id": "Bj4YpUKuzztY"
   },
   "source": [
    "**Q** Verify that most of the variables are described by a quantitative and a qualitative version.\n",
    "\n",
    "**Q** Qualitative variables  (sexe, csp, famille)  are transformed into quantitative ones except `CARVP`. How? "
   ]
  },
  {
   "cell_type": "code",
   "execution_count": 5,
   "metadata": {
    "id": "skQOxgwEzztY"
   },
   "outputs": [
    {
     "data": {
      "text/plain": [
       "SEXEQ     object\n",
       "FAMIQ     object\n",
       "PCSPQ     object\n",
       "kvunbq    object\n",
       "vienbq    object\n",
       "uemnbq    object\n",
       "xlgnbq    object\n",
       "ylvnbq    object\n",
       "rocnbq    object\n",
       "nptagq    object\n",
       "dtype: object"
      ]
     },
     "execution_count": 5,
     "metadata": {},
     "output_type": "execute_result"
    }
   ],
   "source": [
    "df.dtypes.head(10)"
   ]
  },
  {
   "cell_type": "code",
   "execution_count": 6,
   "metadata": {
    "id": "Xa1IRj-4zztZ"
   },
   "outputs": [],
   "source": [
    "# Transformation of qualitative variables into quantitative 0/1 ones.\n",
    "vispremDum = pd.get_dummies(df[[\"SEXEQ\", \"FAMIQ\", \"PCSPQ\"]])\n",
    "vispremDum.drop([\"SEXEQ_Sfem\", \"FAMIQ_Fcou\"], axis=1, inplace=True)\n",
    "\n",
    "# Aggregation of the previous variables with numeric ones\n",
    "vispremNum = vispremDum.select_dtypes(exclude = ['object'])\n",
    "vispremR = pd.concat([vispremDum, vispremNum], axis=1)"
   ]
  },
  {
   "cell_type": "markdown",
   "metadata": {
    "id": "gA5DcEW8zzta"
   },
   "source": [
    "**Q** How many samples and how many variables?"
   ]
  },
  {
   "cell_type": "code",
   "execution_count": 7,
   "metadata": {
    "id": "wMMDekUAzzta"
   },
   "outputs": [
    {
     "name": "stdout",
     "output_type": "stream",
     "text": [
      " Number of samples : 1063 \n",
      " Number of variables : 14\n"
     ]
    }
   ],
   "source": [
    "#TODO Compute the number of samples and the number of variables\n",
    "print(f\" Number of samples : {vispremR.shape[0]} \\n Number of variables : {vispremR.shape[1]}\")"
   ]
  },
  {
   "cell_type": "code",
   "execution_count": 8,
   "metadata": {
    "id": "ibjHCLbPzztb"
   },
   "outputs": [
    {
     "data": {
      "text/plain": [
       "148009     1\n",
       "552427     1\n",
       "556005     1\n",
       "556686     1\n",
       "642680     1\n",
       "          ..\n",
       "7567726    0\n",
       "7572458    0\n",
       "7574479    0\n",
       "7580358    0\n",
       "7589439    0\n",
       "Name: CARVP, Length: 1063, dtype: int64"
      ]
     },
     "execution_count": 8,
     "metadata": {},
     "output_type": "execute_result"
    }
   ],
   "source": [
    "# The variable CARVP is modified into 0/1\n",
    "df[\"CARVP\"] = df[\"CARVP\"].map(lambda x: 0 if x==\"Cnon\" else 1)\n",
    "df[\"CARVP\"]"
   ]
  },
  {
   "cell_type": "markdown",
   "metadata": {
    "id": "GChp_bI-zztb"
   },
   "source": [
    "### Extraction of the learning and test set"
   ]
  },
  {
   "cell_type": "code",
   "execution_count": 9,
   "metadata": {
    "id": "yJxen2nLzztb"
   },
   "outputs": [],
   "source": [
    "rd_seed = 123 # Modify this sieve initialization\n",
    "npop = len(df)\n",
    "\n",
    "#TODO Find xApp,xTest,yApp,yTest with the help of train_test_split\n",
    "#We will place 200 samples in the test set\n",
    "\n",
    "x_vars = vispremR\n",
    "y_var = df[[\"CARVP\"]]\n",
    "xApp, xTest, yApp, yTest = train_test_split(x_vars, y_var, test_size = 200, random_state = rd_seed)"
   ]
  },
  {
   "cell_type": "markdown",
   "metadata": {
    "id": "Cpamcf7Szztc"
   },
   "source": [
    "## [Logistic regression](https://en.wikipedia.org/wiki/Logistic_regression)\n",
    "This \"old\" method is still commonly used, mainly because of its simplicity, interpretability and diffusion over years.\n",
    "\n",
    "### Estimation and optimization\n",
    "The model selection procedure involves a statistical penalization: *ridge*, Lasso or a combination of both (*elastic net*). The behaviour of the model selection in Python is not exactly comparable with the one used in R (*stepwise, backward, forward*) that optimizes *AIC*\n",
    "\n",
    "#### *Lasso* Optimization\n",
    "\n",
    "\n",
    "We first consider the **Lasso** penalty, which is proportional to the L1 norm of the parameter we are looking for. This penalty induces sparsity of the response coefficient vector."
   ]
  },
  {
   "cell_type": "code",
   "execution_count": 10,
   "metadata": {},
   "outputs": [],
   "source": [
    "# Convert y into a 1D array\n",
    "yApp = np.array(yApp[\"CARVP\"])\n",
    "yTest = np.array(yTest[\"CARVP\"])"
   ]
  },
  {
   "cell_type": "code",
   "execution_count": 11,
   "metadata": {
    "id": "HQq_FBurzztc",
    "scrolled": true
   },
   "outputs": [],
   "source": [
    "from sklearn.linear_model import LogisticRegression\n",
    "# Grid of penalty parameters\n",
    "param = [{\"C\": [0.5, 1, 5, 10, 12, 15, 30]}] # dictionary of the values of C used for GridSearchCV\n",
    "# TODO\n",
    "# 1. Define a model (logistic regression)\n",
    "# 2. Use the penalty=\"l1\"\n",
    "# 3. Use GridSearchCV to obtain automatically the best regularization parameter \n",
    "# 4. In what follows, this method will be denoted by logitLasso !\n",
    "\n",
    "logit_model = LogisticRegression(penalty=\"l1\", solver=\"liblinear\")\n",
    "\n",
    "grid_search_cv = GridSearchCV(logit_model, param, cv=5)\n",
    "\n",
    "logitLasso = grid_search_cv.fit(xApp, yApp)"
   ]
  },
  {
   "cell_type": "code",
   "execution_count": 12,
   "metadata": {
    "id": "W8lxGldIzztd"
   },
   "outputs": [
    {
     "name": "stdout",
     "output_type": "stream",
     "text": [
      "Best learning rate = 0.231758, Best parameter  = {'C': 0.5}\n"
     ]
    }
   ],
   "source": [
    "# Computation of the loss\n",
    "print(\"Best learning rate = %f, Best parameter  = %s\" %\n",
    "      (1.-logitLasso.best_score_, logitLasso.best_params_))"
   ]
  },
  {
   "cell_type": "markdown",
   "metadata": {
    "id": "QTpjmh6Hzzte"
   },
   "source": [
    "Prediction error\n"
   ]
  },
  {
   "cell_type": "code",
   "execution_count": 13,
   "metadata": {
    "id": "XA_eOwnxzzte"
   },
   "outputs": [
    {
     "name": "stdout",
     "output_type": "stream",
     "text": [
      "prediction    0   1\n",
      "true value         \n",
      "0           105  29\n",
      "1            30  36 \n",
      "\n",
      "Test error - Logistic regression  Lasso = 0.295000\n"
     ]
    }
   ],
   "source": [
    "# Prediction with the model\n",
    "yChap_lasso = logitLasso.predict(xTest)\n",
    "# TODO:  compute the  confusion matrix with the help of pd.crosstab\n",
    "\n",
    "confusion_matrix_lasso = pd.crosstab(yTest, yChap_lasso, colnames=[\"prediction\"], rownames=[\"true value\"])\n",
    "print(confusion_matrix_lasso, \"\\n\")\n",
    "\n",
    "# Error on the test set\n",
    "print(\"Test error - Logistic regression  Lasso = %f\" % (1-logitLasso.score(xTest, yTest)))"
   ]
  },
  {
   "cell_type": "markdown",
   "metadata": {
    "id": "zo_8DuT4zztf"
   },
   "source": [
    "#### *Ridge* Optimization \n",
    "On considère maintenant l'optimisation Ridge, ou la pénalité est proportionnelle à la norme 2 de l'estimateur (au carré)\n"
   ]
  },
  {
   "cell_type": "code",
   "execution_count": 14,
   "metadata": {
    "id": "hTQgjc3Vzztf"
   },
   "outputs": [],
   "source": [
    "# Grid of penalty parameters\n",
    "param=[{\"C\":[0.5,1,5,10,12,15,30]}]\n",
    "# TODO\n",
    "# 1. Define a model (logistic regression)\n",
    "# 2. Use the penalty=\"l2\"\n",
    "# 3. Use GridSearchCV to obtain automatically the best regularization parameter \n",
    "# 4. In what follows, this method will be denoted by logitRidge!\n",
    "\n",
    "logit_model_ridge = LogisticRegression(penalty=\"l2\")\n",
    "\n",
    "gs_cv_ridge= GridSearchCV(logit_model_ridge, param, cv=5)\n",
    "\n",
    "logitRidge = gs_cv_ridge.fit(xApp, yApp)"
   ]
  },
  {
   "cell_type": "code",
   "execution_count": 15,
   "metadata": {
    "id": "vwoWpqcizztg"
   },
   "outputs": [
    {
     "name": "stdout",
     "output_type": "stream",
     "text": [
      "Best score = 0.231758, Best parameter = {'C': 0.5}\n"
     ]
    }
   ],
   "source": [
    "# Error computation  \n",
    "print(\"Best score = %f, Best parameter = %s\" %\n",
    "      (1. - logitRidge.best_score_, logitRidge.best_params_))"
   ]
  },
  {
   "cell_type": "code",
   "execution_count": 16,
   "metadata": {
    "id": "8RHd7XIuzztg"
   },
   "outputs": [
    {
     "name": "stdout",
     "output_type": "stream",
     "text": [
      "prediction    0   1\n",
      "true value         \n",
      "0           105  29\n",
      "1            30  36 \n",
      "\n",
      "Erreur de test régression Ridge = 0.295000\n"
     ]
    }
   ],
   "source": [
    "# Prediction \n",
    "yChap_ridge = logitRidge.predict(xTest)\n",
    "\n",
    "#Todo confusion matrix \n",
    "\n",
    "confusion_matrix_ridge = pd.crosstab(yTest, yChap_ridge, colnames=[\"prediction\"], rownames=[\"true value\"])\n",
    "print(confusion_matrix_ridge, \"\\n\")\n",
    "\n",
    "# Error on the test set\n",
    "print(\"Erreur de test régression Ridge = %f\" % (1-logitRidge.score(xTest, yTest)))"
   ]
  },
  {
   "cell_type": "markdown",
   "metadata": {},
   "source": [
    "**Q** <font color='red'>\n",
    "    Note the prediction errors and compare them with the ones predicted by the cross validation step\n",
    "</font>\n",
    "\n",
    "Both test errors for Lasso and Ridge are equal, with a value of 29.5%. This is due to the fact than the number of parameters is lower than the amount of observations : 𝑝  is lower than  𝑛.\n",
    "The situation here is not of high dimensionality, which makes Ridge and Lasso equivalent."
   ]
  },
  {
   "cell_type": "markdown",
   "metadata": {
    "id": "8rGWzM9Tzztg"
   },
   "source": [
    "### Interpretation\n",
    "\n",
    "LassoOpt produced by GridSearchCV does not record the values of the parameters learnt by the model. It is then necessary to launch another time this model with the optimal value of the parameter if we wish to show the values of the coefficients."
   ]
  },
  {
   "cell_type": "code",
   "execution_count": 17,
   "metadata": {
    "id": "VZfbh3Gpzzth"
   },
   "outputs": [
    {
     "name": "stdout",
     "output_type": "stream",
     "text": [
      "PCSPQ_Pcad    2.798042\n",
      "PCSPQ_Psan    2.300606\n",
      "SEXEQ_Shom    1.046744\n",
      "PCSPQ_Pouv    0.964388\n",
      "SEXEQ_Shom    0.561024\n",
      "PCSPQ_Pcad    0.366507\n",
      "PCSPQ_Pouv    0.352538\n",
      "PCSPQ_Pemp    0.255496\n",
      "PCSPQ_Pemp    0.149910\n",
      "FAMIQ_Fseu    0.105084\n",
      "PCSPQ_Psan    0.000102\n",
      "FAMIQ_Fseu    0.000000\n",
      "PCSPQ_Pint    0.000000\n",
      "PCSPQ_Pint    0.000000\n",
      "dtype: float64\n"
     ]
    }
   ],
   "source": [
    "LassoOpt = LogisticRegression(penalty=\"l1\", solver=\"liblinear\", C=12)\n",
    "LassoOpt = LassoOpt.fit(xApp, yApp)\n",
    "\n",
    "# Storage of the coefficients\n",
    "vect_coef = np.matrix.transpose(LassoOpt.coef_)\n",
    "vect_coef = vect_coef.ravel()\n",
    "\n",
    "#Show the most important 25 coefficients\n",
    "coef = pd.Series(abs(vect_coef),index=xApp.columns).sort_values(ascending=False)\n",
    "print(coef)"
   ]
  },
  {
   "cell_type": "code",
   "execution_count": 18,
   "metadata": {
    "id": "vMTUYzrOzzth"
   },
   "outputs": [
    {
     "data": {
      "image/png": "[encoded data removed]",
      "text/plain": [
       "<Figure size 504x288 with 1 Axes>"
      ]
     },
     "metadata": {
      "needs_background": "light"
     },
     "output_type": "display_data"
    }
   ],
   "source": [
    "plt.figure(figsize=(7,4))\n",
    "coef.plot(kind='bar')\n",
    "plt.title('Coeffients')\n",
    "plt.tight_layout()\n",
    "plt.show()"
   ]
  },
  {
   "cell_type": "markdown",
   "metadata": {},
   "source": [
    "**Q** <font color='red'>\n",
    "    What are the important variables? How to draw some conclusion/interpretation?\n",
    "</font>\n",
    "\n",
    "The most important variables are the socio-professional category and the sex variables.\n",
    "Male managers are the most likely to own a VISA Premium credit card. This is probably due to male overrepresentation in management roles. Obviously, managers are usually wealthier than people in other positions, which makes them more likely to own a premium credit card.\n",
    "\n",
    "\n",
    "**Q** <font color='red'>\n",
    "    Is the Lasso penalty efficient?\n",
    "</font>\n",
    "\n",
    "Once again, Lasso yields the same results as Ridge. Through \"shrinkage\", Lasso favors sparse and simple models which reduces the complexity of our model, making it easier to interpret. However, this has a cost: bias is increased.\n",
    "Lasso seems to be mildly efficient with around 70% accuracy."
   ]
  },
  {
   "cell_type": "markdown",
   "metadata": {},
   "source": [
    "### Roc Curve"
   ]
  },
  {
   "cell_type": "code",
   "execution_count": 19,
   "metadata": {
    "id": "fhe8trCDzzth"
   },
   "outputs": [
    {
     "data": {
      "image/png": "[encoded data removed]",
      "text/plain": [
       "<Figure size 432x288 with 1 Axes>"
      ]
     },
     "metadata": {
      "needs_background": "light"
     },
     "output_type": "display_data"
    }
   ],
   "source": [
    "from sklearn.metrics import roc_curve\n",
    "listMethod=[[\"Lasso\",logitLasso],[\"Ridge\",logitRidge]]\n",
    "\n",
    "for method in enumerate(listMethod):\n",
    "    probas_ = method[1][1].predict_proba(xTest)\n",
    "    fpr, tpr, thresholds = roc_curve(yTest, probas_[:,1])\n",
    "    plt.plot(fpr, tpr, lw=1,label=\"%s\"%method[1][0])\n",
    "plt.xlabel('False positive rate')\n",
    "plt.ylabel('True positive rate')\n",
    "plt.legend(loc=\"best\")\n",
    "plt.show()"
   ]
  },
  {
   "cell_type": "markdown",
   "metadata": {
    "id": "Nf7KpbQnzzti"
   },
   "source": [
    "## Discriminant analysis\n",
    "Three methods are availables: parametric ones with LDA-QDA and a non parametric one (*k* nearest neighbor)."
   ]
  },
  {
   "cell_type": "code",
   "execution_count": 20,
   "metadata": {
    "id": "y0yl_Rctzzti"
   },
   "outputs": [],
   "source": [
    "from sklearn import discriminant_analysis\n",
    "from sklearn.neighbors import KNeighborsClassifier"
   ]
  },
  {
   "cell_type": "markdown",
   "metadata": {
    "id": "lznnJwj9zzti"
   },
   "source": [
    "### Linear Discriminant Analysis (LDA)\n",
    "Estimation of the model (there is no feature selection step) and then prediction over the test set."
   ]
  },
  {
   "cell_type": "code",
   "execution_count": 21,
   "metadata": {
    "id": "OmcjK1fzzztj"
   },
   "outputs": [
    {
     "name": "stdout",
     "output_type": "stream",
     "text": [
      "prediction    0   1\n",
      "true value         \n",
      "0           105  29\n",
      "1            30  36 \n",
      "\n",
      "Erreur de test disLin = 0.295000\n"
     ]
    }
   ],
   "source": [
    "# TODO:\n",
    "# 1. Define the model ('lda' as discriminant_analysis.LinearDiscriminantAnalysis)\n",
    "# 2. Fit the model\n",
    "# 3. Predict on the test set\n",
    "# 4. Compute the confusion matrix\n",
    "\n",
    "disLin = discriminant_analysis.LinearDiscriminantAnalysis().fit(xApp, yApp)\n",
    "\n",
    "yChap_disLin = disLin.predict(xTest)\n",
    "\n",
    "confusion_matrix_disLin = pd.crosstab(yTest, yChap_disLin, colnames=[\"prediction\"], rownames=[\"true value\"])\n",
    "print(confusion_matrix_disLin, \"\\n\")\n",
    "\n",
    "# Prediction on the test set\n",
    "print(\"Erreur de test disLin = %f\" % (1-disLin.score(xTest, yTest)))"
   ]
  },
  {
   "cell_type": "markdown",
   "metadata": {},
   "source": [
    "**Q** <font color='red'>\n",
    "    What about the quality of the prediction? The ability of interpret the method?\n",
    "</font>\n",
    "\n",
    "\n",
    "The quality of the prediction is exactly the same as with Lasso, Ridge and Elastic net in terms of metrics. Still, the interpretability is rather trickier than previously since the method involves Bayesian probability theory and \"reversed learning\" so-to-speak.\n",
    "\n",
    "**Q** <font color='red'>\n",
    "    What is the meaning of the  *warning*? What are the variables involved by this warning?\n",
    "</font>\n",
    "\n",
    "The warning is about colinearity. This is due to our model having dummy variables. Take the sex variable for example: we have one variable for male and another for female. When one is equal to 1, the other is obviously 0. Therefore, one's value is directly linked to the other's. The concerned variables are thus all the dummies.\n",
    "High colinearity makes our covariance matrix's eigenvalues close to 0. This translates to large values for the inverse of said-matrix, meaning that the variances will be through the roof."
   ]
  },
  {
   "cell_type": "markdown",
   "metadata": {
    "id": "lznnJwj9zzti"
   },
   "source": [
    "### Quadratic Discriminant Analysis (QDA)"
   ]
  },
  {
   "cell_type": "code",
   "execution_count": 22,
   "metadata": {
    "id": "OmcjK1fzzztj"
   },
   "outputs": [
    {
     "name": "stdout",
     "output_type": "stream",
     "text": [
      "prediction    0\n",
      "true value     \n",
      "0           134\n",
      "1            66 \n",
      "\n",
      "Erreur de test disQua = 0.330000\n"
     ]
    },
    {
     "name": "stderr",
     "output_type": "stream",
     "text": [
      "C:\\Users\\Poste-PC\\miniconda3\\envs\\math4ml\\lib\\site-packages\\sklearn\\discriminant_analysis.py:808: UserWarning: Variables are collinear\n",
      "  warnings.warn(\"Variables are collinear\")\n"
     ]
    }
   ],
   "source": [
    "# TODO:\n",
    "# 1. Define the model ('disQua' as discriminant_analysis.quadraticDiscriminantAnalysis)\n",
    "# 2. Fit the model\n",
    "# 3. Predict on the test set\n",
    "# 4. Compute the confusion matrix\n",
    "\n",
    "disQua = discriminant_analysis.QuadraticDiscriminantAnalysis().fit(xApp, yApp)\n",
    "\n",
    "yChap_disQua = disQua.predict(xTest)\n",
    "\n",
    "confusion_matrix_disQua = pd.crosstab(yTest, yChap_disQua, colnames=[\"prediction\"], rownames=[\"true value\"])\n",
    "print(confusion_matrix_disQua, \"\\n\")\n",
    "\n",
    "# Prediction on the test set\n",
    "print(\"Erreur de test disQua = %f\" % (1-disQua.score(xTest, yTest)))"
   ]
  },
  {
   "cell_type": "markdown",
   "metadata": {
    "id": "esh6ztARzztk"
   },
   "source": [
    "### K Nearest Neighbors"
   ]
  },
  {
   "cell_type": "code",
   "execution_count": 23,
   "metadata": {
    "id": "rrt8aIBhzztk",
    "scrolled": true
   },
   "outputs": [
    {
     "name": "stdout",
     "output_type": "stream",
     "text": [
      "prediction    0   1\n",
      "true value         \n",
      "0           113  21\n",
      "1            35  31 \n",
      "\n",
      "Erreur de test disKnn = 0.280000\n"
     ]
    }
   ],
   "source": [
    "# TODO\n",
    "# 1. Define the model with the 10 nearest neighbors (use KNeighborsClassifier)\n",
    "# 2. Fit the model\n",
    "# 3. Predict on the test set\n",
    "# 4. Show the confusion matrix \n",
    "\n",
    "disKnn = KNeighborsClassifier(n_neighbors=10).fit(xApp, yApp)\n",
    "\n",
    "yChap_disKnn = disKnn.predict(xTest)\n",
    "\n",
    "confusion_matrix_disKnn = pd.crosstab(yTest, yChap_disKnn, colnames=[\"prediction\"], rownames=[\"true value\"])\n",
    "print(confusion_matrix_disKnn, \"\\n\")\n",
    "\n",
    "# Prediction error on the test set\n",
    "print(\"Erreur de test disKnn = %f\" % (1-disKnn.score(xTest,yTest)))"
   ]
  },
  {
   "cell_type": "code",
   "execution_count": 24,
   "metadata": {
    "id": "IzB3aBs3zztl"
   },
   "outputs": [
    {
     "name": "stdout",
     "output_type": "stream",
     "text": [
      "Best score = 0.229446, Best parameter = {'n_neighbors': 7}\n"
     ]
    }
   ],
   "source": [
    "#Optimization of the smoothing parameter (number of neighbors) k\n",
    "#Grid \n",
    "param_grid=[{\"n_neighbors\":list(range(1, 15))}]\n",
    "disKnn=GridSearchCV(KNeighborsClassifier(), param_grid,cv=5,n_jobs=-1)\n",
    "\n",
    "disKnnOpt=disKnn.fit(xApp, yApp) # GridSearchCV is itself an estimator \n",
    "\n",
    "# Optimal parameter \n",
    "disKnnOpt.best_params_[\"n_neighbors\"]\n",
    "print(\"Best score = %f, Best parameter = %s\" % (1.-disKnnOpt.best_score_,disKnnOpt.best_params_))"
   ]
  },
  {
   "cell_type": "code",
   "execution_count": 25,
   "metadata": {
    "id": "aDRONWXpzztl"
   },
   "outputs": [
    {
     "name": "stdout",
     "output_type": "stream",
     "text": [
      "col_0    0   1\n",
      "row_0         \n",
      "0      105  30\n",
      "1       29  36\n",
      "Error rate of knn_opt = 0.295000\n"
     ]
    }
   ],
   "source": [
    "# Prediction on the test set \n",
    "yChap_knn7 = disKnnOpt.predict(xTest)\n",
    "# Confusion matrix \n",
    "table=pd.crosstab(yChap_knn7, yTest)\n",
    "print(table)\n",
    "\n",
    "# Estimation of the prediction error on the test set \n",
    "print(\"Error rate of knn_opt = %f\" % (1-disKnnOpt.score(xTest,yTest)))"
   ]
  },
  {
   "cell_type": "markdown",
   "metadata": {
    "id": "Fg1mHDKczztm"
   },
   "source": [
    "ROC curve"
   ]
  },
  {
   "cell_type": "code",
   "execution_count": 26,
   "metadata": {
    "id": "xk2C2-Sbzztm"
   },
   "outputs": [
    {
     "data": {
      "image/png": "[encoded data removed]",
      "text/plain": [
       "<Figure size 432x288 with 1 Axes>"
      ]
     },
     "metadata": {
      "needs_background": "light"
     },
     "output_type": "display_data"
    }
   ],
   "source": [
    "from sklearn.metrics import roc_curve\n",
    "# List of the methods \n",
    "listMethod=[[\"lda\", disLin],[\"qda\", disQua],[\"knn\", disKnnOpt]]\n",
    "\n",
    "# Curves computation\n",
    "for method in enumerate(listMethod):\n",
    "    probas_ = method[1][1].predict_proba(xTest)\n",
    "    fpr, tpr, thresholds = roc_curve(yTest, probas_[:,1])\n",
    "    plt.plot(fpr, tpr, lw=1,label=\"%s\"%method[1][0])\n",
    "plt.xlabel('False positive rate')\n",
    "plt.ylabel('True positive rate')\n",
    "plt.legend(loc=\"best\")\n",
    "plt.show()"
   ]
  },
  {
   "cell_type": "markdown",
   "metadata": {
    "id": "3rUl53Pqzztm"
   },
   "source": [
    "## [Binary decision trees](https://en.wikipedia.org/wiki/Decision_tree_learning)\n",
    "Binary trees are competing well versu logistic regression and are commonly used in datascience. In particular, their interpretation are simple, which is a great advantage of this method. However, the optimization of the parameters involved in this method is somewhat versatile."
   ]
  },
  {
   "cell_type": "code",
   "execution_count": 27,
   "metadata": {
    "id": "Lcv6a0rZzztm"
   },
   "outputs": [],
   "source": [
    "from sklearn.tree import DecisionTreeClassifier"
   ]
  },
  {
   "cell_type": "code",
   "execution_count": 28,
   "metadata": {
    "id": "ntKX4A6Szztn"
   },
   "outputs": [],
   "source": [
    "# Define and fit the model\n",
    "# TODO\n",
    "\n",
    "dtc = DecisionTreeClassifier()\n",
    "\n",
    "dtc_fit = dtc.fit(xApp, yApp)"
   ]
  },
  {
   "cell_type": "markdown",
   "metadata": {
    "id": "OoyRkvqSzztn"
   },
   "source": [
    "**Q** <font color='red'>\n",
    "    What is the default homogeneity criterion used by this method?\n",
    "</font>\n",
    "\n",
    "The default criterion for homogeneity is Gini, which refers to the Gini Index. The only other option is Entropy, referring to the gain ratio. Both of these are used to evaluate the quality of splits between the data.\n",
    "\n",
    "**Q** <font color='red'>\n",
    "    What is the major drawback of the pruning step in  `Scikkit-learn` when compared to the  `rpart` library in R?\n",
    "</font>\n",
    "\n",
    "The RPART library lets you chose the complexity parameter for pruning while SKLEARN does not have such a criterion, only Gini and Entropy. However, the latter has the parameter \"ccp_alpha\" which represents some kind of threshold for the cost-complexity of a subtree. In other words, the subtree with the largest cost complexity that is smaller than said-parameter will be chosen."
   ]
  },
  {
   "cell_type": "code",
   "execution_count": 29,
   "metadata": {
    "id": "jDx159w-zzt0"
   },
   "outputs": [
    {
     "name": "stdout",
     "output_type": "stream",
     "text": [
      "Meilleur score = 0.244495, Meilleur paramètre = {'criterion': 'gini'}\n"
     ]
    }
   ],
   "source": [
    "# Optimization of the depth of the tree\n",
    "#TODO\n",
    "\n",
    "tree_params=[{\"criterion\": [\"gini\", \"entropy\"]}]\n",
    "tree_cv = GridSearchCV(dtc, tree_params, cv=5, n_jobs=-1)\n",
    "\n",
    "treeOpt = tree_cv.fit(xApp, yApp)\n",
    "\n",
    "# optimal parameter\n",
    "treeOpt.best_params_[\"criterion\"]\n",
    "print(\"Meilleur score = %f, Meilleur paramètre = %s\" % (1. - treeOpt.best_score_, treeOpt.best_params_))"
   ]
  },
  {
   "cell_type": "code",
   "execution_count": 30,
   "metadata": {
    "id": "ldrincNzzzt1"
   },
   "outputs": [
    {
     "name": "stdout",
     "output_type": "stream",
     "text": [
      "true value    0   1\n",
      "prediction         \n",
      "0           113  35\n",
      "1            21  31 \n",
      "\n",
      " Prediction error on the test set = 0.280000\n"
     ]
    }
   ],
   "source": [
    "# Prediction on the test set\n",
    "yChap_tree = treeOpt.predict(xTest)\n",
    "\n",
    "# Confusion matrix\n",
    "table = pd.crosstab(yChap_tree, yTest, colnames=[\"true value\"], rownames=[\"prediction\"])\n",
    "print(table, \"\\n\")\n",
    "\n",
    "# Prediction error on the test set\n",
    "print(\" Prediction error on the test set = %f\" % (1-treeOpt.score(xTest,yTest)))"
   ]
  },
  {
   "cell_type": "code",
   "execution_count": 31,
   "metadata": {
    "id": "pXZLzvQJzzt2"
   },
   "outputs": [
    {
     "data": {
      "text/plain": [
       "True"
      ]
     },
     "execution_count": 31,
     "metadata": {},
     "output_type": "execute_result"
    }
   ],
   "source": [
    "# Visualization\n",
    "from sklearn.tree import export_graphviz\n",
    "import io\n",
    "import pydotplus\n",
    "\n",
    "treeG = DecisionTreeClassifier(criterion=treeOpt.best_params_['criterion'])\n",
    "treeG.fit(xApp,yApp)\n",
    "dot_data = io.StringIO()\n",
    "\n",
    "export_graphviz(treeG, out_file=dot_data) \n",
    "graph = pydotplus.graph_from_dot_data(dot_data.getvalue()) \n",
    "graph.write_png(\"treeOpt.png\")"
   ]
  },
  {
   "cell_type": "code",
   "execution_count": 32,
   "metadata": {
    "id": "VXLc7AHEzzt2"
   },
   "outputs": [
    {
     "data": {
      "image/png": "[encoded data removed]",
      "text/plain": [
       "<IPython.core.display.Image object>"
      ]
     },
     "execution_count": 32,
     "metadata": {},
     "output_type": "execute_result"
    }
   ],
   "source": [
    "from IPython.display import Image\n",
    "Image(filename='treeOpt.png')"
   ]
  },
  {
   "cell_type": "markdown",
   "metadata": {
    "id": "c3yDHBt7zzt2"
   },
   "source": [
    "### [Roc curve ROC](https://developers.google.com/machine-learning/crash-course/classification/roc-and-auc)\n",
    "Comparison of the previous methods\n",
    "\n",
    "The default threshold   (0.5) is not necessarily the best one, and it is necessary to compare the ROC curves."
   ]
  },
  {
   "cell_type": "code",
   "execution_count": 33,
   "metadata": {
    "id": "N7vBaFrVzzt2"
   },
   "outputs": [
    {
     "data": {
      "image/png": "[encoded data removed]",
      "text/plain": [
       "<Figure size 432x288 with 1 Axes>"
      ]
     },
     "metadata": {
      "needs_background": "light"
     },
     "output_type": "display_data"
    }
   ],
   "source": [
    "# Liste of the  methods \n",
    "listMethod=[[\"Logit\",logitLasso],[\"lda\",disLin],[\"Arbre\",treeOpt]]\n",
    "\n",
    "# Roc curves \n",
    "for method in enumerate(listMethod):\n",
    "    probas_ = method[1][1].predict_proba(xTest)\n",
    "    fpr, tpr, thresholds = roc_curve(yTest, probas_[:,1])\n",
    "    plt.plot(fpr, tpr, lw=1,label=\"%s\"%method[1][0])\n",
    "plt.xlabel('False positive rate')\n",
    "plt.ylabel('True positive rate')\n",
    "plt.legend(loc=\"best\")\n",
    "plt.show()"
   ]
  },
  {
   "cell_type": "markdown",
   "metadata": {
    "id": "2ww3nsy5zzt3"
   },
   "source": [
    "Comment the results.\n",
    "\n",
    "**Q** <font color='red'>\n",
    "    Interest of the logistic regression when compared to the LDA?\n",
    "</font>\n",
    "\n",
    "**Q** <font color='red'>\n",
    "    Consequence of the ROC curve crossing on the AUC evaluation?\n",
    "</font>\n",
    "\n",
    "The size of the test set (200) is modest..."
   ]
  },
  {
   "cell_type": "markdown",
   "metadata": {
    "id": "t9PtxZDZzzt3"
   },
   "source": [
    "## [Aggregation methods](https://en.wikipedia.org/wiki/Ensemble_learning)\n",
    "We mainly compare here the three algorthms: *bagging, random forest, boosting*.\n",
    "\n",
    "### *Bagging*\n",
    "\n",
    "**Q** <font color='red'>\n",
    "    What is the default aggregated algorithm? \n",
    "</font>\n",
    "\n",
    "The default aggregated algorithm for bagging is a decision tree.\n",
    "\n",
    "\n",
    "**Q** <font color='red'>\n",
    "    What is the default number of estimators ? Is it necessary to optimize this number?\n",
    "</font>\n",
    "\n",
    "The default number of estimators is 10 which is equivalent to the number of trees for the Decision Tree classifier.\n",
    "It is necessary to optimize this number because 10 is small and we should increase the number of trees until the model performance stabilizes."
   ]
  },
  {
   "cell_type": "code",
   "execution_count": 36,
   "metadata": {
    "id": "MbJ2YHmUzzt3"
   },
   "outputs": [
    {
     "name": "stdout",
     "output_type": "stream",
     "text": [
      "true value    0   1\n",
      "prediction         \n",
      "0           113  35\n",
      "1            21  31 \n",
      "\n",
      "Prediction error with bagging = 0.280000\n"
     ]
    }
   ],
   "source": [
    "from sklearn.ensemble import BaggingClassifier\n",
    "bag = BaggingClassifier(n_estimators=100)\n",
    "bagC = bag.fit(xApp, yApp)\n",
    "\n",
    "# Prediction on the test set\n",
    "yChap_bag = bagC.predict(xTest)\n",
    "\n",
    "# Confusion matrix\n",
    "table = pd.crosstab(yChap_bag, yTest, colnames=[\"true value\"], rownames=[\"prediction\"])\n",
    "print(table, \"\\n\")\n",
    "\n",
    "# Prediction error on the test set\n",
    "print(\"Prediction error with bagging = %f\" % (1-bagC.score(xTest,yTest)))"
   ]
  },
  {
   "cell_type": "markdown",
   "metadata": {},
   "source": [
    "**Q** <font color='red'>\n",
    "    Run this previous cell several times. What do you think about the stability of the method and about the its reliability?\n",
    "</font>\n",
    "\n",
    "Sometimes the prediction error is equal to 28% and other times it is 29.5%.\n",
    "This method does not seem stable. Therefore, its reliability is questionable.\n",
    "Nevertheless, this is normal because this ensemble method uses a decision tree on random data subsets, which are then aggregated. It is thus unreasonable to expect this algorithm to yield regular, stable results."
   ]
  },
  {
   "cell_type": "markdown",
   "metadata": {
    "id": "eRv9qorYzzt4"
   },
   "source": [
    "### *Random forest*\n",
    "\n",
    "**Q** <font color='red'>\n",
    "    What is the parameter to be optimized for this algorithm? What is its default value?\n",
    "</font>\n",
    "\n",
    "The optimizable parameter is the number of features to be considered when looking for the best split. \n",
    "In SKLEARN, this refers to \"max_features\".\n",
    "The default value here is \"auto\", which refers to the square root of the number of features \"n_features\".\n",
    "\n",
    "\n",
    "**Q** <font color='red'>\n",
    "    Is the number of trees a versatile parameter?    \n",
    "</font>\n",
    "\n",
    "The number of trees is a versatile parameter called \"n_estimators\" is this algorithm, set to 100 by default."
   ]
  },
  {
   "cell_type": "code",
   "execution_count": 52,
   "metadata": {
    "id": "ui8diWdxzzt4"
   },
   "outputs": [],
   "source": [
    "from sklearn.ensemble import RandomForestClassifier"
   ]
  },
  {
   "cell_type": "code",
   "execution_count": 54,
   "metadata": {
    "id": "PtjrU0tozzt4"
   },
   "outputs": [
    {
     "name": "stdout",
     "output_type": "stream",
     "text": [
      "Best score = 0.235247, Best parameter = {'max_features': 8}\n"
     ]
    }
   ],
   "source": [
    "# Optimization  of max_features\n",
    "param=[{\"max_features\":list(range(2,10,1))}]\n",
    "\n",
    "# TODO DEF gridsearchCV\n",
    "rf = GridSearchCV(RandomForestClassifier(), param, cv=5)\n",
    "rfOpt = rf.fit(xApp, yApp)\n",
    "\n",
    "# optimal parameter \n",
    "print(\"Best score = %f, Best parameter = %s\" % (1. - rfOpt.best_score_,rfOpt.best_params_))"
   ]
  },
  {
   "cell_type": "code",
   "execution_count": 57,
   "metadata": {
    "id": "W4Zz1Ffszzt4"
   },
   "outputs": [
    {
     "name": "stdout",
     "output_type": "stream",
     "text": [
      "true value    0   1\n",
      "prediction         \n",
      "0           113  35\n",
      "1            21  31 \n",
      "\n",
      "Prediction error with  random forest opt -quantitative = 0.280000\n"
     ]
    }
   ],
   "source": [
    "# Prediction on the test set\n",
    "yChap_rf = rfOpt.predict(xTest)\n",
    "\n",
    "# Confusion matrix\n",
    "table = pd.crosstab(yChap_rf, yTest, colnames=[\"true value\"], rownames=[\"prediction\"])\n",
    "print(table, \"\\n\")\n",
    "\n",
    "# Prediction error on the test set\n",
    "print(\"Prediction error with random forest opt -quantitative = %f\" % (1-rfOpt.score(xTest,yTest)))"
   ]
  },
  {
   "cell_type": "markdown",
   "metadata": {
    "id": "AnLJfrlczzt4"
   },
   "source": [
    "### *Gradient boosting*\n",
    "\n",
    "**Q** <font color='red'>\n",
    "    What is the historical *boosting* algorithm? Which one is used now?\n",
    "</font>\n",
    "\n",
    "AdaBoost \n",
    "XGBoost today\n",
    "\n",
    "**Q** <font color='red'>\n",
    "    What are the important parameters to be tuned? How to calibrate them??\n",
    "</font>\n",
    "\n",
    "**Q** <font color='red'>\n",
    "    What is the default value of the parameter that is not optimized below?\n",
    "</font>\n"
   ]
  },
  {
   "cell_type": "code",
   "execution_count": 58,
   "metadata": {
    "id": "RSKMtz23zzt5"
   },
   "outputs": [
    {
     "name": "stdout",
     "output_type": "stream",
     "text": [
      "Best score = 0.236403, Best parameters = {'learning_rate': 0.1, 'n_estimators': 100}\n"
     ]
    }
   ],
   "source": [
    "from sklearn.ensemble import GradientBoostingClassifier\n",
    "# Optimization of two parameters\n",
    "paramGrid = [\n",
    "  {'n_estimators': list(range(100,601,50)), 'learning_rate': [0.1,0.2,0.3,0.4]}\n",
    " ]\n",
    "gbmC = GridSearchCV(GradientBoostingClassifier(),paramGrid,cv=5,n_jobs=-1)\n",
    "gbmOpt = gbmC.fit(xApp, yApp)\n",
    "\n",
    "# Optimal parameters\n",
    "print(\"Best score = %f, Best parameters = %s\" % (1. - gbmOpt.best_score_,gbmOpt.best_params_))"
   ]
  },
  {
   "cell_type": "code",
   "execution_count": 60,
   "metadata": {
    "id": "sSk8XVkCzzt5"
   },
   "outputs": [
    {
     "name": "stdout",
     "output_type": "stream",
     "text": [
      "true value    0   1\n",
      "prediction         \n",
      "0           105  30\n",
      "1            29  36 \n",
      "\n",
      "Test error of gbm opt = 0.295000\n"
     ]
    }
   ],
   "source": [
    "# Prediction on the test set\n",
    "yChap_gbmC = gbmOpt.predict(xTest)\n",
    "\n",
    "# Confusion matrix\n",
    "table = pd.crosstab(yChap_gbmC, yTest, rownames=[\"prediction\"], colnames=[\"true value\"])\n",
    "print(table, \"\\n\")\n",
    "\n",
    "# Prediction error on the test set\n",
    "print(\"Test error of gbm opt = %f\" % (1-gbmOpt.score(xTest,yTest)))"
   ]
  },
  {
   "cell_type": "markdown",
   "metadata": {
    "id": "rXT7rtALzzt5"
   },
   "source": [
    "### Courbes ROC"
   ]
  },
  {
   "cell_type": "code",
   "execution_count": 62,
   "metadata": {
    "id": "5y9fQ5R_zzt5"
   },
   "outputs": [
    {
     "data": {
      "image/png": "[encoded data removed]",
      "text/plain": [
       "<Figure size 432x288 with 1 Axes>"
      ]
     },
     "metadata": {
      "needs_background": "light"
     },
     "output_type": "display_data"
    }
   ],
   "source": [
    "# List of the methods\n",
    "listMethod=[[\"Logit\",logitLasso],[\"lda\",disLin],[\"Arbre\",treeOpt],[\"RF\",rfOpt],[\"GBM\",gbmOpt]]\n",
    "\n",
    "# ROC curves computation \n",
    "for method in enumerate(listMethod):\n",
    "    probas_ = method[1][1].predict_proba(xTest)\n",
    "    fpr, tpr, thresholds = roc_curve(yTest, probas_[:,1])\n",
    "    plt.plot(fpr, tpr, lw=1,label=\"%s\"%method[1][0])\n",
    "plt.xlabel('False positive rate')\n",
    "plt.ylabel('True positive rate ')\n",
    "plt.legend(loc=\"best\")\n",
    "plt.show()"
   ]
  },
  {
   "cell_type": "markdown",
   "metadata": {
    "id": "J5Tsoaj_zzt6"
   },
   "source": [
    "**Q** What is the best interpretable method? What is the best method?\n",
    "\n",
    "**Q** What can you say about the *extrem gradient boosting* ? Number of parameters to be tuned? In Python? In R? Its diffusion?"
   ]
  },
  {
   "cell_type": "markdown",
   "metadata": {},
   "source": [
    "# SVM"
   ]
  },
  {
   "cell_type": "code",
   "execution_count": 70,
   "metadata": {},
   "outputs": [
    {
     "name": "stdout",
     "output_type": "stream",
     "text": [
      "Best score = 0.231758, Best parameters = {'C': 0.5, 'kernel': 'linear'}\n"
     ]
    }
   ],
   "source": [
    "from sklearn.svm import SVC\n",
    "# Optimization of two parameters\n",
    "paramGrid = [\n",
    "  {'kernel': [\"linear\", \"poly\", \"rbf\"], 'C': [0.1, 0.5, 1, 2]}\n",
    "]\n",
    "svc_model = GridSearchCV(SVC(), paramGrid, cv=5, n_jobs=-1)\n",
    "svcOpt = svc_model.fit(xApp, yApp)\n",
    "\n",
    "# Optimal parameters\n",
    "print(\"Best score = %f, Best parameters = %s\" % (1. - svcOpt.best_score_, svcOpt.best_params_))"
   ]
  },
  {
   "cell_type": "code",
   "execution_count": 71,
   "metadata": {},
   "outputs": [
    {
     "name": "stdout",
     "output_type": "stream",
     "text": [
      "true value    0   1\n",
      "prediction         \n",
      "0           105  30\n",
      "1            29  36 \n",
      "\n",
      "Test error of SVM opt = 0.295000\n"
     ]
    }
   ],
   "source": [
    "# Prediction on the test set\n",
    "yChap_svc = svcOpt.predict(xTest)\n",
    "\n",
    "# Confusion matrix\n",
    "table = pd.crosstab(yChap_svc, yTest, rownames=[\"prediction\"], colnames=[\"true value\"])\n",
    "print(table, \"\\n\")\n",
    "\n",
    "# Prediction error on the test set\n",
    "print(\"Test error of SVM opt = %f\" % (1-svcOpt.score(xTest, yTest)))"
   ]
  },
  {
   "cell_type": "markdown",
   "metadata": {},
   "source": [
    "# Neural Networks"
   ]
  },
  {
   "cell_type": "code",
   "execution_count": 65,
   "metadata": {},
   "outputs": [
    {
     "name": "stdout",
     "output_type": "stream",
     "text": [
      "Best score = 0.231745, Best parameters = {'activation': 'identity', 'alpha': 1e-15, 'hidden_layer_sizes': (10, 5), 'solver': 'sgd'}\n"
     ]
    }
   ],
   "source": [
    "from sklearn.neural_network import MLPClassifier\n",
    "# Optimization of two parameters\n",
    "paramGrid = [{\n",
    "    'hidden_layer_sizes': [(5, 2), (10, 5), (50, 10)],\n",
    "    'activation': [\"identity\", \"relu\", \"logistic\"],\n",
    "   'solver': [\"lbfgs\", \"sgd\", \"adam\"],\n",
    "    \"alpha\": [1e-5, 1e-10, 1e-15]\n",
    "}]\n",
    "mlp = GridSearchCV(MLPClassifier(), paramGrid, cv=5, n_jobs=-1)\n",
    "mlpOpt = mlp.fit(xApp, yApp)\n",
    "\n",
    "# Optimal parameters\n",
    "print(\"Best score = %f, Best parameters = %s\" % (1. - mlpOpt.best_score_, mlpOpt.best_params_))"
   ]
  },
  {
   "cell_type": "code",
   "execution_count": 67,
   "metadata": {},
   "outputs": [
    {
     "name": "stdout",
     "output_type": "stream",
     "text": [
      "true value    0   1\n",
      "prediction         \n",
      "0           105  30\n",
      "1            29  36 \n",
      "\n",
      "Test error of MLP opt = 0.295000\n"
     ]
    }
   ],
   "source": [
    "# Prediction on the test set\n",
    "yChap_mlp = mlpOpt.predict(xTest)\n",
    "\n",
    "# Confusion matrix\n",
    "table = pd.crosstab(yChap_mlp, yTest, rownames=[\"prediction\"], colnames=[\"true value\"])\n",
    "print(table, \"\\n\")\n",
    "\n",
    "# Prediction error on the test set\n",
    "print(\"Test error of MLP opt = %f\" % (1-mlpOpt.score(xTest, yTest)))"
   ]
  }
 ],
 "metadata": {
  "colab": {
   "collapsed_sections": [],
   "name": "Apprent-Python-Visa_hide-nb-track.ipynb",
   "provenance": [],
   "toc_visible": true
  },
  "kernelspec": {
   "display_name": "Python 3 (ipykernel)",
   "language": "python",
   "name": "python3"
  },
  "language_info": {
   "codemirror_mode": {
    "name": "ipython",
    "version": 3
   },
   "file_extension": ".py",
   "mimetype": "text/x-python",
   "name": "python",
   "nbconvert_exporter": "python",
   "pygments_lexer": "ipython3",
   "version": "3.9.7"
  }
 },
 "nbformat": 4,
 "nbformat_minor": 1
}
