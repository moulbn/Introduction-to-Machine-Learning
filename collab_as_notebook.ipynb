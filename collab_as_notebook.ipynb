{
 "cells": [
  {
   "cell_type": "markdown",
   "metadata": {
    "id": "Uj_hDMvpzztA"
   },
   "source": [
    "<center>\n",
    "<a href=\"https://www.tse-fr.eu/\" ><img src=\"https://upload.wikimedia.org/wikipedia/commons/5/52/TSE_Logo_2019.png\" style=\"float:left; width: \"200\"; display: inline\" alt=\"INSA\"/></a> \n",
    "\n",
    "<a href=\"http://wikistat.fr/\" ><img src=\"http://www.math.univ-toulouse.fr/~besse/Wikistat/Images/wikistat.jpg\" style=\"float:right; max-width: 250px; display: inline\"  alt=\"Wikistat\"/></a>\n",
    "\n",
    "</center>"
   ]
  },
  {
   "cell_type": "markdown",
   "metadata": {
    "collapsed": true,
    "id": "kCLoSIVizztH"
   },
   "source": [
    "# [Machine learning scenario](https://github.com/wikistat/Apprentissage)"
   ]
  },
  {
   "cell_type": "markdown",
   "metadata": {
    "id": "OlU6SOZezztK"
   },
   "source": [
    "# GRC: Prediction of a bank product appetancy with <a href=\"https://www.python.org/\"><img src=\"https://upload.wikimedia.org/wikipedia/commons/thumb/f/f8/Python_logo_and_wordmark.svg/390px-Python_logo_and_wordmark.svg.png\" style=\"max-width: 120px; display: inline\" alt=\"Python\"/></a> and <a href=\"http://scikit-learn.org/stable/#\"><img src=\"http://scikit-learn.org/stable/_static/scikit-learn-logo-small.png\" style=\"max-width: 100px; display: inline\" alt=\"Scikit-learn\"/></a>"
   ]
  },
  {
   "cell_type": "markdown",
   "metadata": {
    "id": "P2tjy71BzztM"
   },
   "source": [
    "#### Summary\n",
    "The dataset is built with 825 customers of a bank, described by 32 variables. These variables give some informations about the bank use. Our goal is to predict a score for the Visa Premier card: we intend to compare several methods of machine learning (logistic regression, trees, extreme gradient boosting, svm or random forests).\n",
    "\n",
    "## Introduction\n",
    "\n",
    "### Data presentation\n",
    "#### Variables\n",
    "The variables are listed below. \n",
    "*Table: name and meaning of variables* Beware, some variables are written in capital letters and then in small letters after some transformations (logarithm, one hot encoding, etc). Names ending with L correspond to variables that are logarithmically transformed while names ending with Q or q correspond to qualitative variables. . \n",
    "\n",
    "**Identifiant** | **Libellé**\n",
    "           --|--\n",
    "`sexeq` | Sexe (qualitatif) \n",
    "`ager` | Age en années\n",
    "`famiq` | Situation familiale: `Fmar Fcel Fdiv Fuli Fsep Fveu`\n",
    "`relat` | Ancienneté de relation en mois\n",
    "`pcspq` | Catégorie socio-professionnelle (code num)\n",
    "`opgnb` | Nombre d'opérations par guichet dans le mois\n",
    "`moyrv` | Moyenne des mouvements nets créditeurs des 3 mois en Kf\n",
    "`tavep` | Total des avoirs épargne monétaire en francs\n",
    "`endet` | Taux d'endettement\n",
    "`gaget` | Total des engagements en francs\n",
    "`gagec` | Total des engagements court terme en francs\n",
    "`gagem` | Total des engagements moyen terme en francs\n",
    "`kvunb` | Nombre de comptes à vue\n",
    "`qsmoy` | Moyenne des soldes moyens sur 3 mois\n",
    "`qcred` | Moyenne des mouvements créditeurs en Kf\n",
    "`dmvtp` | Age du dernier mouvement (en jours)\\hline\n",
    "`boppn` | Nombre d'opérations à M-1\n",
    "`facan` | Montant facturé dans l'année en francs\n",
    "`lgagt` | Engagement long terme\n",
    "`vienb` | Nombre de produits contrats vie\n",
    "`viemt` | Montant des produits contrats vie en francs\n",
    "`uemnb` | Nombre de produits épargne monétaire\n",
    "`xlgnb` | Nombre de produits d'épargne logement\n",
    "`xlgmt` | Montant des produits d'épargne logement en francs\n",
    "`ylvnb` | Nombre de comptes sur livret\n",
    "`ylvmt` | Montant des comptes sur livret en francs\n",
    "`rocnb` | Nombre de paiements par carte bancaire à M-1\n",
    "`nptag` | Nombre de cartes point argent\n",
    "`itavc` | Total des avoirs sur tous les comptes\n",
    "`havef` | Total des avoirs épargne financière en francs\n",
    "`jnbjd | Nombre de jours à débit à M\n",
    "**`carvp`** | **Possession de la carte VISA Premier**\n",
    "\n",
    "\n",
    "**Answer the questions with the help of Python and Scikitlearn.**"
   ]
  },
  {
   "cell_type": "markdown",
   "metadata": {
    "id": "iQ9PtbSBzztP"
   },
   "source": [
    "## Data preparation\n",
    "### Lecture \n",
    "The original dataset has been transformed after an important preprocessing step in this [notebook](https://github.com/wikistat/Exploration/blob/master/GRC-carte_Visa/Explo-R-Visa.ipynb). We skip this step today! "
   ]
  },
  {
   "cell_type": "code",
   "execution_count": 1,
   "metadata": {
    "id": "HLRhAQ5HzztQ"
   },
   "outputs": [],
   "source": [
    "# Library Importation\n",
    "import numpy as np\n",
    "import socket\n",
    "import pandas as pd\n",
    "import random as rd\n",
    "import matplotlib.pyplot as plt\n",
    "#from google.colab import files\n",
    "%matplotlib inline\n",
    "from sklearn.model_selection import train_test_split\n",
    "from sklearn.model_selection import GridSearchCV\n",
    "from sklearn.metrics import confusion_matrix"
   ]
  },
  {
   "cell_type": "code",
   "execution_count": 3,
   "metadata": {
    "colab": {
     "base_uri": "https://localhost:8080/",
     "height": 72,
     "resources": {
      "http://localhost:8080/nbextensions/google.colab/files.js": {
       "data": "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",
       "headers": [
        [
         "content-type",
         "application/javascript"
        ]
       ],
       "ok": true,
       "status": 200,
       "status_text": ""
      }
     }
    },
    "id": "BRSf5g7nzztT",
    "outputId": "2aff5a27-6a2c-4b54-a3ae-205741b1a8b9"
   },
   "outputs": [],
   "source": [
    "# Lecture of the data frame\n",
    "#files.upload()\n",
    "\n",
    "vispremv = pd.read_table( 'vispremv.dat', delimiter = ' ' )\n",
    "#Give the size of the dataset"
   ]
  },
  {
   "cell_type": "code",
   "execution_count": null,
   "metadata": {
    "colab": {
     "base_uri": "https://localhost:8080/",
     "height": 224
    },
    "id": "R8_7Y_mgzztU",
    "outputId": "e63b65de-d7cd-40d5-8bc5-2d0780238dd8"
   },
   "outputs": [],
   "source": [
    "vispremv.head()"
   ]
  },
  {
   "cell_type": "code",
   "execution_count": null,
   "metadata": {
    "colab": {
     "base_uri": "https://localhost:8080/",
     "height": 317
    },
    "id": "xRlqVxvrzztX",
    "outputId": "1814b555-1b28-492d-f751-324071c7f3a9"
   },
   "outputs": [],
   "source": [
    "# Produce a list of quantitative variables\n",
    "vispremv.describe()"
   ]
  },
  {
   "cell_type": "markdown",
   "metadata": {
    "id": "Bj4YpUKuzztY"
   },
   "source": [
    "Verify that most of the variables are described by a quantitative and a qualitative version.\n",
    "\n",
    "Qualitative variables  (sexe, csp, famille)  are transformed into quantitative ones except `CARVP`. How? "
   ]
  },
  {
   "cell_type": "code",
   "execution_count": null,
   "metadata": {
    "colab": {
     "base_uri": "https://localhost:8080/"
    },
    "id": "skQOxgwEzztY",
    "outputId": "439e26ba-c245-48b1-d150-f5cbc7c49a42"
   },
   "outputs": [],
   "source": [
    "vispremv.dtypes"
   ]
  },
  {
   "cell_type": "code",
   "execution_count": 4,
   "metadata": {
    "id": "2jIVGUUXDBQ-"
   },
   "outputs": [],
   "source": [
    "vispremv = vispremv.loc[:,~vispremv.columns.duplicated() ]"
   ]
  },
  {
   "cell_type": "code",
   "execution_count": 5,
   "metadata": {
    "colab": {
     "base_uri": "https://localhost:8080/"
    },
    "id": "Xa1IRj-4zztZ",
    "outputId": "52854a1e-f8f0-42ef-f48b-a4a8481727c9"
   },
   "outputs": [
    {
     "name": "stdout",
     "output_type": "stream",
     "text": [
      "Index(['SEXEQ_Shom', 'FAMIQ_Fcou', 'PCSPQ_Pcad', 'PCSPQ_Pemp', 'PCSPQ_Pint',\n",
      "       'PCSPQ_Pouv', 'PCSPQ_Psan', 'SEXEQ_Shom', 'FAMIQ_Fcou', 'PCSPQ_Pcad',\n",
      "       'PCSPQ_Pemp', 'PCSPQ_Pint', 'PCSPQ_Pouv', 'PCSPQ_Psan'],\n",
      "      dtype='object')\n"
     ]
    }
   ],
   "source": [
    "# Transformation of qualitative variables into quantitative 0/1 ones.\n",
    "# Use pd.get_dummies\n",
    "\n",
    "vispremDum = pd.get_dummies( vispremv[['SEXEQ', 'FAMIQ', 'PCSPQ']] ) \n",
    "vispremDum\n",
    "\n",
    "vispremDum.drop( ['SEXEQ_Sfem', 'FAMIQ_Fseu'], axis = 1, inplace = True )\n",
    "\n",
    "vispremNum = vispremDum.select_dtypes( exclude = ['object'] )\n",
    "\n",
    "vispremR = pd.concat([vispremDum, vispremNum], axis = 1 )\n",
    "\n",
    "print(vispremR.columns)"
   ]
  },
  {
   "cell_type": "code",
   "execution_count": null,
   "metadata": {
    "colab": {
     "base_uri": "https://localhost:8080/"
    },
    "id": "RrxrIdPHPTQs",
    "outputId": "615ce2d3-40ed-4334-8e3a-90aa26deed1d"
   },
   "outputs": [],
   "source": [
    "vispremR.isnull().sum()"
   ]
  },
  {
   "cell_type": "markdown",
   "metadata": {
    "id": "gA5DcEW8zzta"
   },
   "source": [
    "** **texte en gras**Q** How many samples and how many variables?"
   ]
  },
  {
   "cell_type": "code",
   "execution_count": null,
   "metadata": {
    "colab": {
     "base_uri": "https://localhost:8080/"
    },
    "id": "wMMDekUAzzta",
    "outputId": "04eb0c91-15ce-4395-db3b-ce2d4cd2ce9b"
   },
   "outputs": [],
   "source": [
    "#TODO Compute the number of samples and the number of variables\n",
    "\n",
    "vispremR.shape"
   ]
  },
  {
   "cell_type": "code",
   "execution_count": 6,
   "metadata": {
    "id": "ibjHCLbPzztb"
   },
   "outputs": [],
   "source": [
    "# The variable CARVP is modified into 0/1\n",
    "y = vispremv[\"CARVP\"].map(lambda x: 0 if x==\"Cnon\" else 1)"
   ]
  },
  {
   "cell_type": "code",
   "execution_count": 7,
   "metadata": {
    "id": "JsDwsm8uqqPI"
   },
   "outputs": [],
   "source": [
    "vispremv[\"CARVP\"] = vispremv[\"CARVP\"].map(lambda x: 0 if x==\"Cnon\" else 1)"
   ]
  },
  {
   "cell_type": "markdown",
   "metadata": {
    "id": "GChp_bI-zztb"
   },
   "source": [
    "### Extraction of the learning and test set"
   ]
  },
  {
   "cell_type": "code",
   "execution_count": 8,
   "metadata": {
    "colab": {
     "base_uri": "https://localhost:8080/"
    },
    "id": "yJxen2nLzztb",
    "outputId": "920ffeea-b088-4ffa-878f-fa29699d88d1"
   },
   "outputs": [
    {
     "data": {
      "text/plain": [
       "(863, 14)"
      ]
     },
     "execution_count": 8,
     "metadata": {},
     "output_type": "execute_result"
    }
   ],
   "source": [
    "rd_seed = 111 # Modify this sieve initialization\n",
    "npop = len(vispremv)\n",
    "#TODO Find xApp,xTest,yApp,yTest with the help of train_test_split\n",
    "#We will place 200 samples in the test set\n",
    "from sklearn.preprocessing import StandardScaler\n",
    "xApp,xTest, yApp, yTest = train_test_split( vispremR , y, test_size = 200, random_state = rd_seed )\n",
    "\n",
    "xApp.shape"
   ]
  },
  {
   "cell_type": "code",
   "execution_count": null,
   "metadata": {
    "colab": {
     "base_uri": "https://localhost:8080/"
    },
    "id": "TguE-XvIrW_F",
    "outputId": "dad39560-fe45-408e-ce40-845a0c57d01c"
   },
   "outputs": [],
   "source": [
    "vispremv.shape"
   ]
  },
  {
   "cell_type": "markdown",
   "metadata": {
    "id": "Cpamcf7Szztc"
   },
   "source": [
    "## [Logistic regression](https://en.wikipedia.org/wiki/Logistic_regression)\n",
    "This \"old\" method is still commonly used, mainly because of its simplicity, interpretability and diffusion over years.\n",
    "\n",
    "### Estimation and optimization\n",
    "The model selection procedure involves a statistical penalization: *ridge*, Lasso or a combination of both (*elastic net*). The behaviour of the model selection in Python is not exactly comparable with the one used in R (*stepwise, backward, forward*) that optimizes *AIC*\n",
    "\n",
    "#### *Lasso* Optimization\n",
    "\n",
    "\n",
    "We first consider the **Lasso** penalty, which is proportional to the L1 norm of the  ou la pénalité est proportionnelle à la norme 1 de l'estimateur (ce qui parameter we are looking for. This penalty induces sparsity of the response coefficient vector."
   ]
  },
  {
   "cell_type": "markdown",
   "metadata": {
    "id": "2WplPutAtsVS"
   },
   "source": [
    "We recall that the logistic regression model defined within our framework aims at estimating the conditional probability that a card-owner possesses the set of attributes $X$=$x$ (e.g. up to 10 months of consumer seniority, with at most 50 transfers per months on average, at most 2 life insurances etc..). The underlying parametric assumption states that, in our sample, the conditional odds of owning a card i.e., $ \\frac{P(Y=1|X)}{1-P(Y=1|X)}$ has a logit linear in $X$ (see below):"
   ]
  },
  {
   "cell_type": "code",
   "execution_count": 11,
   "metadata": {
    "colab": {
     "base_uri": "https://localhost:8080/",
     "height": 296
    },
    "id": "WUyJUf_YwrAZ",
    "outputId": "4a4fbb76-4a06-4bf0-88a0-09845adec88f"
   },
   "outputs": [
    {
     "data": {
      "image/png": "[encoded data removed]",
      "text/plain": [
       "<Figure size 432x288 with 1 Axes>"
      ]
     },
     "metadata": {
      "needs_background": "light"
     },
     "output_type": "display_data"
    }
   ],
   "source": [
    "import seaborn as sns\n",
    "#sns.regplot( x = vispremv['ITAVCL'], y = vispremv['CARVP'], data = vispremv, logistic = True )\n",
    "sns.set_palette(\"husl\", 3)\n",
    "sns.color_palette(\"husl\", 3)\n",
    "ax = sns.regplot( x = vispremv['MOYRVL'], y = vispremv['CARVP'], data = vispremv, logistic = True, color= 'pink' )\n",
    "sns.axes_style(\"whitegrid\")\n",
    "ax.set( xlabel = \"Moyenne des mouvements nets créditeurs des 3 mois en Kf\", ylabel = \"Possession de la carte Visa Premier\" )\n",
    "plt.title(\"Régression Logistique de la possession de carte Visa Premier sur la Moyenne des mouvement nets créditeurs\")\n",
    "plt.show(ax)"
   ]
  },
  {
   "cell_type": "code",
   "execution_count": 12,
   "metadata": {
    "colab": {
     "base_uri": "https://localhost:8080/",
     "height": 373
    },
    "id": "gB-GObSZ5FYS",
    "outputId": "0af3d50e-cc64-4314-faa4-defb8b349e35"
   },
   "outputs": [
    {
     "data": {
      "text/html": [
       "<div>\n",
       "<style scoped>\n",
       "    .dataframe tbody tr th:only-of-type {\n",
       "        vertical-align: middle;\n",
       "    }\n",
       "\n",
       "    .dataframe tbody tr th {\n",
       "        vertical-align: top;\n",
       "    }\n",
       "\n",
       "    .dataframe thead th {\n",
       "        text-align: right;\n",
       "    }\n",
       "</style>\n",
       "<table border=\"1\" class=\"dataframe\">\n",
       "  <thead>\n",
       "    <tr style=\"text-align: right;\">\n",
       "      <th></th>\n",
       "      <th>SEXEQ</th>\n",
       "      <th>CARVP</th>\n",
       "    </tr>\n",
       "  </thead>\n",
       "  <tbody>\n",
       "    <tr>\n",
       "      <th>0</th>\n",
       "      <td>Sfem</td>\n",
       "      <td>0.139303</td>\n",
       "    </tr>\n",
       "    <tr>\n",
       "      <th>1</th>\n",
       "      <td>Shom</td>\n",
       "      <td>0.455371</td>\n",
       "    </tr>\n",
       "  </tbody>\n",
       "</table>\n",
       "</div>"
      ],
      "text/plain": [
       "  SEXEQ     CARVP\n",
       "0  Sfem  0.139303\n",
       "1  Shom  0.455371"
      ]
     },
     "execution_count": 12,
     "metadata": {},
     "output_type": "execute_result"
    },
    {
     "data": {
      "image/png": "[encoded data removed]",
      "text/plain": [
       "<Figure size 432x288 with 1 Axes>"
      ]
     },
     "metadata": {
      "needs_background": "light"
     },
     "output_type": "display_data"
    }
   ],
   "source": [
    "sns.barplot( x = vispremv['SEXEQ'],y = vispremv['CARVP'] , data = vispremv )\n",
    "vispremv.groupby( 'SEXEQ' ,as_index = False ).CARVP.mean()"
   ]
  },
  {
   "cell_type": "markdown",
   "metadata": {
    "id": "sCaPZ8c4BKum"
   },
   "source": [
    "We observe a substantial over-representation of male card-owners in our sample (i.e., 45% versus 14% of for males and females respectively), it can potentially gives rationale for results of our models throughout the following sections."
   ]
  },
  {
   "cell_type": "code",
   "execution_count": 13,
   "metadata": {
    "colab": {
     "base_uri": "https://localhost:8080/",
     "height": 968
    },
    "id": "Iaygx_mY52AY",
    "outputId": "33237a1f-8ad1-449d-ad86-011961d0dd5e"
   },
   "outputs": [
    {
     "data": {
      "text/html": [
       "<div>\n",
       "<style scoped>\n",
       "    .dataframe tbody tr th:only-of-type {\n",
       "        vertical-align: middle;\n",
       "    }\n",
       "\n",
       "    .dataframe tbody tr th {\n",
       "        vertical-align: top;\n",
       "    }\n",
       "\n",
       "    .dataframe thead th {\n",
       "        text-align: right;\n",
       "    }\n",
       "</style>\n",
       "<table border=\"1\" class=\"dataframe\">\n",
       "  <thead>\n",
       "    <tr style=\"text-align: right;\">\n",
       "      <th></th>\n",
       "      <th>RELAT</th>\n",
       "      <th>AGER</th>\n",
       "      <th>OPGNBL</th>\n",
       "      <th>MOYRVL</th>\n",
       "      <th>TAVEPL</th>\n",
       "      <th>ENDETL</th>\n",
       "      <th>GAGETL</th>\n",
       "      <th>GAGECL</th>\n",
       "      <th>GAGEML</th>\n",
       "      <th>KVUNB</th>\n",
       "      <th>...</th>\n",
       "      <th>XLGNB</th>\n",
       "      <th>XLGMTL</th>\n",
       "      <th>YLVNB</th>\n",
       "      <th>YLVMTL</th>\n",
       "      <th>ROCNB</th>\n",
       "      <th>NPTAG</th>\n",
       "      <th>ITAVCL</th>\n",
       "      <th>HAVEFL</th>\n",
       "      <th>JNBJDL</th>\n",
       "      <th>CARVP</th>\n",
       "    </tr>\n",
       "  </thead>\n",
       "  <tbody>\n",
       "    <tr>\n",
       "      <th>RELAT</th>\n",
       "      <td>1.000000</td>\n",
       "      <td>0.379882</td>\n",
       "      <td>0.064888</td>\n",
       "      <td>0.214777</td>\n",
       "      <td>0.249508</td>\n",
       "      <td>0.126643</td>\n",
       "      <td>0.117589</td>\n",
       "      <td>0.044892</td>\n",
       "      <td>0.056658</td>\n",
       "      <td>0.073264</td>\n",
       "      <td>...</td>\n",
       "      <td>0.220438</td>\n",
       "      <td>0.213878</td>\n",
       "      <td>0.169615</td>\n",
       "      <td>0.173697</td>\n",
       "      <td>0.150623</td>\n",
       "      <td>-0.019603</td>\n",
       "      <td>0.272643</td>\n",
       "      <td>0.307121</td>\n",
       "      <td>0.005465</td>\n",
       "      <td>-0.045189</td>\n",
       "    </tr>\n",
       "    <tr>\n",
       "      <th>AGER</th>\n",
       "      <td>0.379882</td>\n",
       "      <td>1.000000</td>\n",
       "      <td>0.078152</td>\n",
       "      <td>0.207690</td>\n",
       "      <td>0.200717</td>\n",
       "      <td>0.092824</td>\n",
       "      <td>0.084364</td>\n",
       "      <td>0.014104</td>\n",
       "      <td>0.090800</td>\n",
       "      <td>0.046301</td>\n",
       "      <td>...</td>\n",
       "      <td>0.047471</td>\n",
       "      <td>0.094836</td>\n",
       "      <td>0.158785</td>\n",
       "      <td>0.206184</td>\n",
       "      <td>0.007075</td>\n",
       "      <td>-0.101598</td>\n",
       "      <td>0.257008</td>\n",
       "      <td>0.256945</td>\n",
       "      <td>-0.027979</td>\n",
       "      <td>0.118632</td>\n",
       "    </tr>\n",
       "    <tr>\n",
       "      <th>OPGNBL</th>\n",
       "      <td>0.064888</td>\n",
       "      <td>0.078152</td>\n",
       "      <td>1.000000</td>\n",
       "      <td>0.492103</td>\n",
       "      <td>0.133642</td>\n",
       "      <td>0.191050</td>\n",
       "      <td>0.296850</td>\n",
       "      <td>0.176681</td>\n",
       "      <td>0.222123</td>\n",
       "      <td>0.319572</td>\n",
       "      <td>...</td>\n",
       "      <td>0.121592</td>\n",
       "      <td>0.134393</td>\n",
       "      <td>0.146853</td>\n",
       "      <td>0.148657</td>\n",
       "      <td>0.170622</td>\n",
       "      <td>0.012927</td>\n",
       "      <td>0.221971</td>\n",
       "      <td>0.170435</td>\n",
       "      <td>0.194434</td>\n",
       "      <td>0.285980</td>\n",
       "    </tr>\n",
       "    <tr>\n",
       "      <th>MOYRVL</th>\n",
       "      <td>0.214777</td>\n",
       "      <td>0.207690</td>\n",
       "      <td>0.492103</td>\n",
       "      <td>1.000000</td>\n",
       "      <td>0.373422</td>\n",
       "      <td>0.317355</td>\n",
       "      <td>0.455462</td>\n",
       "      <td>0.247835</td>\n",
       "      <td>0.357448</td>\n",
       "      <td>0.482495</td>\n",
       "      <td>...</td>\n",
       "      <td>0.259134</td>\n",
       "      <td>0.288905</td>\n",
       "      <td>0.341304</td>\n",
       "      <td>0.381314</td>\n",
       "      <td>0.515586</td>\n",
       "      <td>0.005469</td>\n",
       "      <td>0.513791</td>\n",
       "      <td>0.291548</td>\n",
       "      <td>0.286197</td>\n",
       "      <td>0.443863</td>\n",
       "    </tr>\n",
       "    <tr>\n",
       "      <th>TAVEPL</th>\n",
       "      <td>0.249508</td>\n",
       "      <td>0.200717</td>\n",
       "      <td>0.133642</td>\n",
       "      <td>0.373422</td>\n",
       "      <td>1.000000</td>\n",
       "      <td>0.141537</td>\n",
       "      <td>0.138215</td>\n",
       "      <td>0.002225</td>\n",
       "      <td>0.123355</td>\n",
       "      <td>0.087370</td>\n",
       "      <td>...</td>\n",
       "      <td>0.579756</td>\n",
       "      <td>0.712218</td>\n",
       "      <td>0.599411</td>\n",
       "      <td>0.718242</td>\n",
       "      <td>0.219111</td>\n",
       "      <td>-0.100534</td>\n",
       "      <td>0.675886</td>\n",
       "      <td>0.386200</td>\n",
       "      <td>-0.110554</td>\n",
       "      <td>0.142631</td>\n",
       "    </tr>\n",
       "    <tr>\n",
       "      <th>ENDETL</th>\n",
       "      <td>0.126643</td>\n",
       "      <td>0.092824</td>\n",
       "      <td>0.191050</td>\n",
       "      <td>0.317355</td>\n",
       "      <td>0.141537</td>\n",
       "      <td>1.000000</td>\n",
       "      <td>0.821748</td>\n",
       "      <td>0.318204</td>\n",
       "      <td>0.617301</td>\n",
       "      <td>0.274219</td>\n",
       "      <td>...</td>\n",
       "      <td>0.192354</td>\n",
       "      <td>0.140048</td>\n",
       "      <td>0.092086</td>\n",
       "      <td>0.086091</td>\n",
       "      <td>0.211867</td>\n",
       "      <td>-0.024130</td>\n",
       "      <td>0.123932</td>\n",
       "      <td>0.129283</td>\n",
       "      <td>0.238501</td>\n",
       "      <td>0.128460</td>\n",
       "    </tr>\n",
       "    <tr>\n",
       "      <th>GAGETL</th>\n",
       "      <td>0.117589</td>\n",
       "      <td>0.084364</td>\n",
       "      <td>0.296850</td>\n",
       "      <td>0.455462</td>\n",
       "      <td>0.138215</td>\n",
       "      <td>0.821748</td>\n",
       "      <td>1.000000</td>\n",
       "      <td>0.544828</td>\n",
       "      <td>0.677055</td>\n",
       "      <td>0.363998</td>\n",
       "      <td>...</td>\n",
       "      <td>0.220336</td>\n",
       "      <td>0.149099</td>\n",
       "      <td>0.139990</td>\n",
       "      <td>0.101268</td>\n",
       "      <td>0.313753</td>\n",
       "      <td>-0.032795</td>\n",
       "      <td>0.090745</td>\n",
       "      <td>0.159005</td>\n",
       "      <td>0.382724</td>\n",
       "      <td>0.287284</td>\n",
       "    </tr>\n",
       "    <tr>\n",
       "      <th>GAGECL</th>\n",
       "      <td>0.044892</td>\n",
       "      <td>0.014104</td>\n",
       "      <td>0.176681</td>\n",
       "      <td>0.247835</td>\n",
       "      <td>0.002225</td>\n",
       "      <td>0.318204</td>\n",
       "      <td>0.544828</td>\n",
       "      <td>1.000000</td>\n",
       "      <td>0.252202</td>\n",
       "      <td>0.229298</td>\n",
       "      <td>...</td>\n",
       "      <td>0.065125</td>\n",
       "      <td>0.024167</td>\n",
       "      <td>0.066214</td>\n",
       "      <td>0.001105</td>\n",
       "      <td>0.227573</td>\n",
       "      <td>0.007579</td>\n",
       "      <td>-0.120843</td>\n",
       "      <td>0.070261</td>\n",
       "      <td>0.458538</td>\n",
       "      <td>0.234214</td>\n",
       "    </tr>\n",
       "    <tr>\n",
       "      <th>GAGEML</th>\n",
       "      <td>0.056658</td>\n",
       "      <td>0.090800</td>\n",
       "      <td>0.222123</td>\n",
       "      <td>0.357448</td>\n",
       "      <td>0.123355</td>\n",
       "      <td>0.617301</td>\n",
       "      <td>0.677055</td>\n",
       "      <td>0.252202</td>\n",
       "      <td>1.000000</td>\n",
       "      <td>0.265906</td>\n",
       "      <td>...</td>\n",
       "      <td>0.174508</td>\n",
       "      <td>0.146462</td>\n",
       "      <td>0.090581</td>\n",
       "      <td>0.066198</td>\n",
       "      <td>0.247356</td>\n",
       "      <td>-0.021650</td>\n",
       "      <td>0.126111</td>\n",
       "      <td>0.104032</td>\n",
       "      <td>0.282986</td>\n",
       "      <td>0.251796</td>\n",
       "    </tr>\n",
       "    <tr>\n",
       "      <th>KVUNB</th>\n",
       "      <td>0.073264</td>\n",
       "      <td>0.046301</td>\n",
       "      <td>0.319572</td>\n",
       "      <td>0.482495</td>\n",
       "      <td>0.087370</td>\n",
       "      <td>0.274219</td>\n",
       "      <td>0.363998</td>\n",
       "      <td>0.229298</td>\n",
       "      <td>0.265906</td>\n",
       "      <td>1.000000</td>\n",
       "      <td>...</td>\n",
       "      <td>0.135961</td>\n",
       "      <td>0.128988</td>\n",
       "      <td>0.144475</td>\n",
       "      <td>0.141517</td>\n",
       "      <td>0.328210</td>\n",
       "      <td>0.019315</td>\n",
       "      <td>0.214381</td>\n",
       "      <td>0.115959</td>\n",
       "      <td>0.304726</td>\n",
       "      <td>0.297697</td>\n",
       "    </tr>\n",
       "    <tr>\n",
       "      <th>QSMOY</th>\n",
       "      <td>0.064561</td>\n",
       "      <td>0.116701</td>\n",
       "      <td>0.157083</td>\n",
       "      <td>0.360009</td>\n",
       "      <td>0.095441</td>\n",
       "      <td>0.031615</td>\n",
       "      <td>0.029857</td>\n",
       "      <td>-0.137718</td>\n",
       "      <td>0.021609</td>\n",
       "      <td>0.114713</td>\n",
       "      <td>...</td>\n",
       "      <td>0.040249</td>\n",
       "      <td>0.085043</td>\n",
       "      <td>0.053933</td>\n",
       "      <td>0.111890</td>\n",
       "      <td>0.126198</td>\n",
       "      <td>-0.007225</td>\n",
       "      <td>0.325677</td>\n",
       "      <td>0.185284</td>\n",
       "      <td>-0.203584</td>\n",
       "      <td>0.200950</td>\n",
       "    </tr>\n",
       "    <tr>\n",
       "      <th>QCREDL</th>\n",
       "      <td>0.230721</td>\n",
       "      <td>0.196036</td>\n",
       "      <td>0.457103</td>\n",
       "      <td>0.931287</td>\n",
       "      <td>0.334030</td>\n",
       "      <td>0.319220</td>\n",
       "      <td>0.437435</td>\n",
       "      <td>0.233733</td>\n",
       "      <td>0.325359</td>\n",
       "      <td>0.529847</td>\n",
       "      <td>...</td>\n",
       "      <td>0.259519</td>\n",
       "      <td>0.273402</td>\n",
       "      <td>0.322659</td>\n",
       "      <td>0.342978</td>\n",
       "      <td>0.540796</td>\n",
       "      <td>0.005150</td>\n",
       "      <td>0.476680</td>\n",
       "      <td>0.273173</td>\n",
       "      <td>0.302091</td>\n",
       "      <td>0.405155</td>\n",
       "    </tr>\n",
       "    <tr>\n",
       "      <th>DMVTPL</th>\n",
       "      <td>0.056757</td>\n",
       "      <td>0.018900</td>\n",
       "      <td>0.133225</td>\n",
       "      <td>0.213161</td>\n",
       "      <td>-0.074862</td>\n",
       "      <td>0.117039</td>\n",
       "      <td>0.142717</td>\n",
       "      <td>0.087993</td>\n",
       "      <td>0.087210</td>\n",
       "      <td>0.529256</td>\n",
       "      <td>...</td>\n",
       "      <td>-0.021676</td>\n",
       "      <td>-0.034567</td>\n",
       "      <td>0.027704</td>\n",
       "      <td>0.014093</td>\n",
       "      <td>0.104777</td>\n",
       "      <td>0.076816</td>\n",
       "      <td>0.107961</td>\n",
       "      <td>0.052120</td>\n",
       "      <td>0.141510</td>\n",
       "      <td>0.063020</td>\n",
       "    </tr>\n",
       "    <tr>\n",
       "      <th>BOPPNL</th>\n",
       "      <td>0.233894</td>\n",
       "      <td>0.122603</td>\n",
       "      <td>0.445156</td>\n",
       "      <td>0.785738</td>\n",
       "      <td>0.278351</td>\n",
       "      <td>0.329006</td>\n",
       "      <td>0.422663</td>\n",
       "      <td>0.252476</td>\n",
       "      <td>0.302904</td>\n",
       "      <td>0.566102</td>\n",
       "      <td>...</td>\n",
       "      <td>0.229256</td>\n",
       "      <td>0.225275</td>\n",
       "      <td>0.301678</td>\n",
       "      <td>0.316541</td>\n",
       "      <td>0.619400</td>\n",
       "      <td>0.067573</td>\n",
       "      <td>0.401735</td>\n",
       "      <td>0.219478</td>\n",
       "      <td>0.364670</td>\n",
       "      <td>0.233121</td>\n",
       "    </tr>\n",
       "    <tr>\n",
       "      <th>FACANL</th>\n",
       "      <td>0.110251</td>\n",
       "      <td>0.135451</td>\n",
       "      <td>0.098169</td>\n",
       "      <td>0.252567</td>\n",
       "      <td>0.091839</td>\n",
       "      <td>0.098157</td>\n",
       "      <td>0.136071</td>\n",
       "      <td>0.116544</td>\n",
       "      <td>0.089869</td>\n",
       "      <td>0.147546</td>\n",
       "      <td>...</td>\n",
       "      <td>0.022159</td>\n",
       "      <td>0.046899</td>\n",
       "      <td>0.117848</td>\n",
       "      <td>0.109759</td>\n",
       "      <td>0.163944</td>\n",
       "      <td>0.054823</td>\n",
       "      <td>0.122742</td>\n",
       "      <td>0.112607</td>\n",
       "      <td>0.124522</td>\n",
       "      <td>0.180672</td>\n",
       "    </tr>\n",
       "    <tr>\n",
       "      <th>LGAGTL</th>\n",
       "      <td>0.152345</td>\n",
       "      <td>0.050054</td>\n",
       "      <td>0.189574</td>\n",
       "      <td>0.308665</td>\n",
       "      <td>0.137068</td>\n",
       "      <td>0.548782</td>\n",
       "      <td>0.578131</td>\n",
       "      <td>0.095056</td>\n",
       "      <td>0.172380</td>\n",
       "      <td>0.237044</td>\n",
       "      <td>...</td>\n",
       "      <td>0.226399</td>\n",
       "      <td>0.144123</td>\n",
       "      <td>0.140608</td>\n",
       "      <td>0.112512</td>\n",
       "      <td>0.190463</td>\n",
       "      <td>-0.033592</td>\n",
       "      <td>0.146953</td>\n",
       "      <td>0.151190</td>\n",
       "      <td>0.120186</td>\n",
       "      <td>0.161460</td>\n",
       "    </tr>\n",
       "    <tr>\n",
       "      <th>VIENB</th>\n",
       "      <td>0.168579</td>\n",
       "      <td>0.136345</td>\n",
       "      <td>0.156536</td>\n",
       "      <td>0.181066</td>\n",
       "      <td>0.238111</td>\n",
       "      <td>0.043004</td>\n",
       "      <td>0.065406</td>\n",
       "      <td>0.043365</td>\n",
       "      <td>0.055069</td>\n",
       "      <td>0.089904</td>\n",
       "      <td>...</td>\n",
       "      <td>0.209439</td>\n",
       "      <td>0.229577</td>\n",
       "      <td>0.195442</td>\n",
       "      <td>0.204414</td>\n",
       "      <td>0.028765</td>\n",
       "      <td>-0.049565</td>\n",
       "      <td>0.303974</td>\n",
       "      <td>0.574118</td>\n",
       "      <td>0.013459</td>\n",
       "      <td>0.101885</td>\n",
       "    </tr>\n",
       "    <tr>\n",
       "      <th>VIEMTL</th>\n",
       "      <td>0.191267</td>\n",
       "      <td>0.172174</td>\n",
       "      <td>0.117446</td>\n",
       "      <td>0.207184</td>\n",
       "      <td>0.338706</td>\n",
       "      <td>0.074419</td>\n",
       "      <td>0.092480</td>\n",
       "      <td>0.031238</td>\n",
       "      <td>0.056341</td>\n",
       "      <td>0.086894</td>\n",
       "      <td>...</td>\n",
       "      <td>0.316884</td>\n",
       "      <td>0.326739</td>\n",
       "      <td>0.231156</td>\n",
       "      <td>0.264619</td>\n",
       "      <td>0.087162</td>\n",
       "      <td>-0.051640</td>\n",
       "      <td>0.390847</td>\n",
       "      <td>0.781582</td>\n",
       "      <td>0.009429</td>\n",
       "      <td>0.117916</td>\n",
       "    </tr>\n",
       "    <tr>\n",
       "      <th>UEMNB</th>\n",
       "      <td>0.267732</td>\n",
       "      <td>0.148194</td>\n",
       "      <td>0.185936</td>\n",
       "      <td>0.390184</td>\n",
       "      <td>0.771853</td>\n",
       "      <td>0.184972</td>\n",
       "      <td>0.238696</td>\n",
       "      <td>0.077302</td>\n",
       "      <td>0.180015</td>\n",
       "      <td>0.174424</td>\n",
       "      <td>...</td>\n",
       "      <td>0.761779</td>\n",
       "      <td>0.691436</td>\n",
       "      <td>0.739466</td>\n",
       "      <td>0.665064</td>\n",
       "      <td>0.229261</td>\n",
       "      <td>-0.083127</td>\n",
       "      <td>0.540609</td>\n",
       "      <td>0.435660</td>\n",
       "      <td>0.009802</td>\n",
       "      <td>0.183287</td>\n",
       "    </tr>\n",
       "    <tr>\n",
       "      <th>XLGNB</th>\n",
       "      <td>0.220438</td>\n",
       "      <td>0.047471</td>\n",
       "      <td>0.121592</td>\n",
       "      <td>0.259134</td>\n",
       "      <td>0.579756</td>\n",
       "      <td>0.192354</td>\n",
       "      <td>0.220336</td>\n",
       "      <td>0.065125</td>\n",
       "      <td>0.174508</td>\n",
       "      <td>0.135961</td>\n",
       "      <td>...</td>\n",
       "      <td>1.000000</td>\n",
       "      <td>0.836020</td>\n",
       "      <td>0.191731</td>\n",
       "      <td>0.200374</td>\n",
       "      <td>0.192333</td>\n",
       "      <td>-0.069033</td>\n",
       "      <td>0.420048</td>\n",
       "      <td>0.373783</td>\n",
       "      <td>0.023705</td>\n",
       "      <td>0.148690</td>\n",
       "    </tr>\n",
       "    <tr>\n",
       "      <th>XLGMTL</th>\n",
       "      <td>0.213878</td>\n",
       "      <td>0.094836</td>\n",
       "      <td>0.134393</td>\n",
       "      <td>0.288905</td>\n",
       "      <td>0.712218</td>\n",
       "      <td>0.140048</td>\n",
       "      <td>0.149099</td>\n",
       "      <td>0.024167</td>\n",
       "      <td>0.146462</td>\n",
       "      <td>0.128988</td>\n",
       "      <td>...</td>\n",
       "      <td>0.836020</td>\n",
       "      <td>1.000000</td>\n",
       "      <td>0.236430</td>\n",
       "      <td>0.279068</td>\n",
       "      <td>0.183560</td>\n",
       "      <td>-0.086144</td>\n",
       "      <td>0.539931</td>\n",
       "      <td>0.394300</td>\n",
       "      <td>-0.034629</td>\n",
       "      <td>0.179725</td>\n",
       "    </tr>\n",
       "    <tr>\n",
       "      <th>YLVNB</th>\n",
       "      <td>0.169615</td>\n",
       "      <td>0.158785</td>\n",
       "      <td>0.146853</td>\n",
       "      <td>0.341304</td>\n",
       "      <td>0.599411</td>\n",
       "      <td>0.092086</td>\n",
       "      <td>0.139990</td>\n",
       "      <td>0.066214</td>\n",
       "      <td>0.090581</td>\n",
       "      <td>0.144475</td>\n",
       "      <td>...</td>\n",
       "      <td>0.191731</td>\n",
       "      <td>0.236430</td>\n",
       "      <td>1.000000</td>\n",
       "      <td>0.846740</td>\n",
       "      <td>0.185303</td>\n",
       "      <td>-0.054561</td>\n",
       "      <td>0.392637</td>\n",
       "      <td>0.244988</td>\n",
       "      <td>0.005924</td>\n",
       "      <td>0.111176</td>\n",
       "    </tr>\n",
       "    <tr>\n",
       "      <th>YLVMTL</th>\n",
       "      <td>0.173697</td>\n",
       "      <td>0.206184</td>\n",
       "      <td>0.148657</td>\n",
       "      <td>0.381314</td>\n",
       "      <td>0.718242</td>\n",
       "      <td>0.086091</td>\n",
       "      <td>0.101268</td>\n",
       "      <td>0.001105</td>\n",
       "      <td>0.066198</td>\n",
       "      <td>0.141517</td>\n",
       "      <td>...</td>\n",
       "      <td>0.200374</td>\n",
       "      <td>0.279068</td>\n",
       "      <td>0.846740</td>\n",
       "      <td>1.000000</td>\n",
       "      <td>0.178676</td>\n",
       "      <td>-0.061144</td>\n",
       "      <td>0.483958</td>\n",
       "      <td>0.283725</td>\n",
       "      <td>-0.103421</td>\n",
       "      <td>0.105553</td>\n",
       "    </tr>\n",
       "    <tr>\n",
       "      <th>ROCNB</th>\n",
       "      <td>0.150623</td>\n",
       "      <td>0.007075</td>\n",
       "      <td>0.170622</td>\n",
       "      <td>0.515586</td>\n",
       "      <td>0.219111</td>\n",
       "      <td>0.211867</td>\n",
       "      <td>0.313753</td>\n",
       "      <td>0.227573</td>\n",
       "      <td>0.247356</td>\n",
       "      <td>0.328210</td>\n",
       "      <td>...</td>\n",
       "      <td>0.192333</td>\n",
       "      <td>0.183560</td>\n",
       "      <td>0.185303</td>\n",
       "      <td>0.178676</td>\n",
       "      <td>1.000000</td>\n",
       "      <td>-0.071562</td>\n",
       "      <td>0.239078</td>\n",
       "      <td>0.153847</td>\n",
       "      <td>0.290675</td>\n",
       "      <td>0.283267</td>\n",
       "    </tr>\n",
       "    <tr>\n",
       "      <th>NPTAG</th>\n",
       "      <td>-0.019603</td>\n",
       "      <td>-0.101598</td>\n",
       "      <td>0.012927</td>\n",
       "      <td>0.005469</td>\n",
       "      <td>-0.100534</td>\n",
       "      <td>-0.024130</td>\n",
       "      <td>-0.032795</td>\n",
       "      <td>0.007579</td>\n",
       "      <td>-0.021650</td>\n",
       "      <td>0.019315</td>\n",
       "      <td>...</td>\n",
       "      <td>-0.069033</td>\n",
       "      <td>-0.086144</td>\n",
       "      <td>-0.054561</td>\n",
       "      <td>-0.061144</td>\n",
       "      <td>-0.071562</td>\n",
       "      <td>1.000000</td>\n",
       "      <td>-0.105159</td>\n",
       "      <td>-0.064261</td>\n",
       "      <td>0.041739</td>\n",
       "      <td>-0.124327</td>\n",
       "    </tr>\n",
       "    <tr>\n",
       "      <th>ITAVCL</th>\n",
       "      <td>0.272643</td>\n",
       "      <td>0.257008</td>\n",
       "      <td>0.221971</td>\n",
       "      <td>0.513791</td>\n",
       "      <td>0.675886</td>\n",
       "      <td>0.123932</td>\n",
       "      <td>0.090745</td>\n",
       "      <td>-0.120843</td>\n",
       "      <td>0.126111</td>\n",
       "      <td>0.214381</td>\n",
       "      <td>...</td>\n",
       "      <td>0.420048</td>\n",
       "      <td>0.539931</td>\n",
       "      <td>0.392637</td>\n",
       "      <td>0.483958</td>\n",
       "      <td>0.239078</td>\n",
       "      <td>-0.105159</td>\n",
       "      <td>1.000000</td>\n",
       "      <td>0.487521</td>\n",
       "      <td>-0.140939</td>\n",
       "      <td>0.223500</td>\n",
       "    </tr>\n",
       "    <tr>\n",
       "      <th>HAVEFL</th>\n",
       "      <td>0.307121</td>\n",
       "      <td>0.256945</td>\n",
       "      <td>0.170435</td>\n",
       "      <td>0.291548</td>\n",
       "      <td>0.386200</td>\n",
       "      <td>0.129283</td>\n",
       "      <td>0.159005</td>\n",
       "      <td>0.070261</td>\n",
       "      <td>0.104032</td>\n",
       "      <td>0.115959</td>\n",
       "      <td>...</td>\n",
       "      <td>0.373783</td>\n",
       "      <td>0.394300</td>\n",
       "      <td>0.244988</td>\n",
       "      <td>0.283725</td>\n",
       "      <td>0.153847</td>\n",
       "      <td>-0.064261</td>\n",
       "      <td>0.487521</td>\n",
       "      <td>1.000000</td>\n",
       "      <td>0.047941</td>\n",
       "      <td>0.206873</td>\n",
       "    </tr>\n",
       "    <tr>\n",
       "      <th>JNBJDL</th>\n",
       "      <td>0.005465</td>\n",
       "      <td>-0.027979</td>\n",
       "      <td>0.194434</td>\n",
       "      <td>0.286197</td>\n",
       "      <td>-0.110554</td>\n",
       "      <td>0.238501</td>\n",
       "      <td>0.382724</td>\n",
       "      <td>0.458538</td>\n",
       "      <td>0.282986</td>\n",
       "      <td>0.304726</td>\n",
       "      <td>...</td>\n",
       "      <td>0.023705</td>\n",
       "      <td>-0.034629</td>\n",
       "      <td>0.005924</td>\n",
       "      <td>-0.103421</td>\n",
       "      <td>0.290675</td>\n",
       "      <td>0.041739</td>\n",
       "      <td>-0.140939</td>\n",
       "      <td>0.047941</td>\n",
       "      <td>1.000000</td>\n",
       "      <td>0.173671</td>\n",
       "    </tr>\n",
       "    <tr>\n",
       "      <th>CARVP</th>\n",
       "      <td>-0.045189</td>\n",
       "      <td>0.118632</td>\n",
       "      <td>0.285980</td>\n",
       "      <td>0.443863</td>\n",
       "      <td>0.142631</td>\n",
       "      <td>0.128460</td>\n",
       "      <td>0.287284</td>\n",
       "      <td>0.234214</td>\n",
       "      <td>0.251796</td>\n",
       "      <td>0.297697</td>\n",
       "      <td>...</td>\n",
       "      <td>0.148690</td>\n",
       "      <td>0.179725</td>\n",
       "      <td>0.111176</td>\n",
       "      <td>0.105553</td>\n",
       "      <td>0.283267</td>\n",
       "      <td>-0.124327</td>\n",
       "      <td>0.223500</td>\n",
       "      <td>0.206873</td>\n",
       "      <td>0.173671</td>\n",
       "      <td>1.000000</td>\n",
       "    </tr>\n",
       "  </tbody>\n",
       "</table>\n",
       "<p>29 rows × 29 columns</p>\n",
       "</div>"
      ],
      "text/plain": [
       "           RELAT      AGER    OPGNBL    MOYRVL    TAVEPL    ENDETL    GAGETL  \\\n",
       "RELAT   1.000000  0.379882  0.064888  0.214777  0.249508  0.126643  0.117589   \n",
       "AGER    0.379882  1.000000  0.078152  0.207690  0.200717  0.092824  0.084364   \n",
       "OPGNBL  0.064888  0.078152  1.000000  0.492103  0.133642  0.191050  0.296850   \n",
       "MOYRVL  0.214777  0.207690  0.492103  1.000000  0.373422  0.317355  0.455462   \n",
       "TAVEPL  0.249508  0.200717  0.133642  0.373422  1.000000  0.141537  0.138215   \n",
       "ENDETL  0.126643  0.092824  0.191050  0.317355  0.141537  1.000000  0.821748   \n",
       "GAGETL  0.117589  0.084364  0.296850  0.455462  0.138215  0.821748  1.000000   \n",
       "GAGECL  0.044892  0.014104  0.176681  0.247835  0.002225  0.318204  0.544828   \n",
       "GAGEML  0.056658  0.090800  0.222123  0.357448  0.123355  0.617301  0.677055   \n",
       "KVUNB   0.073264  0.046301  0.319572  0.482495  0.087370  0.274219  0.363998   \n",
       "QSMOY   0.064561  0.116701  0.157083  0.360009  0.095441  0.031615  0.029857   \n",
       "QCREDL  0.230721  0.196036  0.457103  0.931287  0.334030  0.319220  0.437435   \n",
       "DMVTPL  0.056757  0.018900  0.133225  0.213161 -0.074862  0.117039  0.142717   \n",
       "BOPPNL  0.233894  0.122603  0.445156  0.785738  0.278351  0.329006  0.422663   \n",
       "FACANL  0.110251  0.135451  0.098169  0.252567  0.091839  0.098157  0.136071   \n",
       "LGAGTL  0.152345  0.050054  0.189574  0.308665  0.137068  0.548782  0.578131   \n",
       "VIENB   0.168579  0.136345  0.156536  0.181066  0.238111  0.043004  0.065406   \n",
       "VIEMTL  0.191267  0.172174  0.117446  0.207184  0.338706  0.074419  0.092480   \n",
       "UEMNB   0.267732  0.148194  0.185936  0.390184  0.771853  0.184972  0.238696   \n",
       "XLGNB   0.220438  0.047471  0.121592  0.259134  0.579756  0.192354  0.220336   \n",
       "XLGMTL  0.213878  0.094836  0.134393  0.288905  0.712218  0.140048  0.149099   \n",
       "YLVNB   0.169615  0.158785  0.146853  0.341304  0.599411  0.092086  0.139990   \n",
       "YLVMTL  0.173697  0.206184  0.148657  0.381314  0.718242  0.086091  0.101268   \n",
       "ROCNB   0.150623  0.007075  0.170622  0.515586  0.219111  0.211867  0.313753   \n",
       "NPTAG  -0.019603 -0.101598  0.012927  0.005469 -0.100534 -0.024130 -0.032795   \n",
       "ITAVCL  0.272643  0.257008  0.221971  0.513791  0.675886  0.123932  0.090745   \n",
       "HAVEFL  0.307121  0.256945  0.170435  0.291548  0.386200  0.129283  0.159005   \n",
       "JNBJDL  0.005465 -0.027979  0.194434  0.286197 -0.110554  0.238501  0.382724   \n",
       "CARVP  -0.045189  0.118632  0.285980  0.443863  0.142631  0.128460  0.287284   \n",
       "\n",
       "          GAGECL    GAGEML     KVUNB  ...     XLGNB    XLGMTL     YLVNB  \\\n",
       "RELAT   0.044892  0.056658  0.073264  ...  0.220438  0.213878  0.169615   \n",
       "AGER    0.014104  0.090800  0.046301  ...  0.047471  0.094836  0.158785   \n",
       "OPGNBL  0.176681  0.222123  0.319572  ...  0.121592  0.134393  0.146853   \n",
       "MOYRVL  0.247835  0.357448  0.482495  ...  0.259134  0.288905  0.341304   \n",
       "TAVEPL  0.002225  0.123355  0.087370  ...  0.579756  0.712218  0.599411   \n",
       "ENDETL  0.318204  0.617301  0.274219  ...  0.192354  0.140048  0.092086   \n",
       "GAGETL  0.544828  0.677055  0.363998  ...  0.220336  0.149099  0.139990   \n",
       "GAGECL  1.000000  0.252202  0.229298  ...  0.065125  0.024167  0.066214   \n",
       "GAGEML  0.252202  1.000000  0.265906  ...  0.174508  0.146462  0.090581   \n",
       "KVUNB   0.229298  0.265906  1.000000  ...  0.135961  0.128988  0.144475   \n",
       "QSMOY  -0.137718  0.021609  0.114713  ...  0.040249  0.085043  0.053933   \n",
       "QCREDL  0.233733  0.325359  0.529847  ...  0.259519  0.273402  0.322659   \n",
       "DMVTPL  0.087993  0.087210  0.529256  ... -0.021676 -0.034567  0.027704   \n",
       "BOPPNL  0.252476  0.302904  0.566102  ...  0.229256  0.225275  0.301678   \n",
       "FACANL  0.116544  0.089869  0.147546  ...  0.022159  0.046899  0.117848   \n",
       "LGAGTL  0.095056  0.172380  0.237044  ...  0.226399  0.144123  0.140608   \n",
       "VIENB   0.043365  0.055069  0.089904  ...  0.209439  0.229577  0.195442   \n",
       "VIEMTL  0.031238  0.056341  0.086894  ...  0.316884  0.326739  0.231156   \n",
       "UEMNB   0.077302  0.180015  0.174424  ...  0.761779  0.691436  0.739466   \n",
       "XLGNB   0.065125  0.174508  0.135961  ...  1.000000  0.836020  0.191731   \n",
       "XLGMTL  0.024167  0.146462  0.128988  ...  0.836020  1.000000  0.236430   \n",
       "YLVNB   0.066214  0.090581  0.144475  ...  0.191731  0.236430  1.000000   \n",
       "YLVMTL  0.001105  0.066198  0.141517  ...  0.200374  0.279068  0.846740   \n",
       "ROCNB   0.227573  0.247356  0.328210  ...  0.192333  0.183560  0.185303   \n",
       "NPTAG   0.007579 -0.021650  0.019315  ... -0.069033 -0.086144 -0.054561   \n",
       "ITAVCL -0.120843  0.126111  0.214381  ...  0.420048  0.539931  0.392637   \n",
       "HAVEFL  0.070261  0.104032  0.115959  ...  0.373783  0.394300  0.244988   \n",
       "JNBJDL  0.458538  0.282986  0.304726  ...  0.023705 -0.034629  0.005924   \n",
       "CARVP   0.234214  0.251796  0.297697  ...  0.148690  0.179725  0.111176   \n",
       "\n",
       "          YLVMTL     ROCNB     NPTAG    ITAVCL    HAVEFL    JNBJDL     CARVP  \n",
       "RELAT   0.173697  0.150623 -0.019603  0.272643  0.307121  0.005465 -0.045189  \n",
       "AGER    0.206184  0.007075 -0.101598  0.257008  0.256945 -0.027979  0.118632  \n",
       "OPGNBL  0.148657  0.170622  0.012927  0.221971  0.170435  0.194434  0.285980  \n",
       "MOYRVL  0.381314  0.515586  0.005469  0.513791  0.291548  0.286197  0.443863  \n",
       "TAVEPL  0.718242  0.219111 -0.100534  0.675886  0.386200 -0.110554  0.142631  \n",
       "ENDETL  0.086091  0.211867 -0.024130  0.123932  0.129283  0.238501  0.128460  \n",
       "GAGETL  0.101268  0.313753 -0.032795  0.090745  0.159005  0.382724  0.287284  \n",
       "GAGECL  0.001105  0.227573  0.007579 -0.120843  0.070261  0.458538  0.234214  \n",
       "GAGEML  0.066198  0.247356 -0.021650  0.126111  0.104032  0.282986  0.251796  \n",
       "KVUNB   0.141517  0.328210  0.019315  0.214381  0.115959  0.304726  0.297697  \n",
       "QSMOY   0.111890  0.126198 -0.007225  0.325677  0.185284 -0.203584  0.200950  \n",
       "QCREDL  0.342978  0.540796  0.005150  0.476680  0.273173  0.302091  0.405155  \n",
       "DMVTPL  0.014093  0.104777  0.076816  0.107961  0.052120  0.141510  0.063020  \n",
       "BOPPNL  0.316541  0.619400  0.067573  0.401735  0.219478  0.364670  0.233121  \n",
       "FACANL  0.109759  0.163944  0.054823  0.122742  0.112607  0.124522  0.180672  \n",
       "LGAGTL  0.112512  0.190463 -0.033592  0.146953  0.151190  0.120186  0.161460  \n",
       "VIENB   0.204414  0.028765 -0.049565  0.303974  0.574118  0.013459  0.101885  \n",
       "VIEMTL  0.264619  0.087162 -0.051640  0.390847  0.781582  0.009429  0.117916  \n",
       "UEMNB   0.665064  0.229261 -0.083127  0.540609  0.435660  0.009802  0.183287  \n",
       "XLGNB   0.200374  0.192333 -0.069033  0.420048  0.373783  0.023705  0.148690  \n",
       "XLGMTL  0.279068  0.183560 -0.086144  0.539931  0.394300 -0.034629  0.179725  \n",
       "YLVNB   0.846740  0.185303 -0.054561  0.392637  0.244988  0.005924  0.111176  \n",
       "YLVMTL  1.000000  0.178676 -0.061144  0.483958  0.283725 -0.103421  0.105553  \n",
       "ROCNB   0.178676  1.000000 -0.071562  0.239078  0.153847  0.290675  0.283267  \n",
       "NPTAG  -0.061144 -0.071562  1.000000 -0.105159 -0.064261  0.041739 -0.124327  \n",
       "ITAVCL  0.483958  0.239078 -0.105159  1.000000  0.487521 -0.140939  0.223500  \n",
       "HAVEFL  0.283725  0.153847 -0.064261  0.487521  1.000000  0.047941  0.206873  \n",
       "JNBJDL -0.103421  0.290675  0.041739 -0.140939  0.047941  1.000000  0.173671  \n",
       "CARVP   0.105553  0.283267 -0.124327  0.223500  0.206873  0.173671  1.000000  \n",
       "\n",
       "[29 rows x 29 columns]"
      ]
     },
     "execution_count": 13,
     "metadata": {},
     "output_type": "execute_result"
    }
   ],
   "source": [
    "vispremv.corr()"
   ]
  },
  {
   "cell_type": "code",
   "execution_count": 14,
   "metadata": {
    "colab": {
     "base_uri": "https://localhost:8080/"
    },
    "id": "QmpLMMOFDBTc",
    "outputId": "417e2cfe-1d19-454b-fa91-720f1681736c"
   },
   "outputs": [
    {
     "data": {
      "text/plain": [
       "RELAT   RELAT     1.000000\n",
       "MOYRVL  QCREDL    0.931287\n",
       "YLVNB   YLVMTL    0.846740\n",
       "BOPPNL  QCREDL    0.844869\n",
       "XLGMTL  XLGNB     0.836020\n",
       "                    ...   \n",
       "ITAVCL  GAGECL   -0.120843\n",
       "CARVP   NPTAG    -0.124327\n",
       "QSMOY   GAGECL   -0.137718\n",
       "ITAVCL  JNBJDL   -0.140939\n",
       "QSMOY   JNBJDL   -0.203584\n",
       "Length: 407, dtype: float64"
      ]
     },
     "execution_count": 14,
     "metadata": {},
     "output_type": "execute_result"
    }
   ],
   "source": [
    "vispremv.corr().unstack().sort_values( ascending = False ).drop_duplicates()"
   ]
  },
  {
   "cell_type": "code",
   "execution_count": 15,
   "metadata": {
    "colab": {
     "base_uri": "https://localhost:8080/",
     "height": 536
    },
    "id": "CoV9qqxgC0vy",
    "outputId": "8b902a59-ebf0-4bd1-cece-eb7cf6b3c6f8"
   },
   "outputs": [
    {
     "data": {
      "text/plain": [
       "<AxesSubplot:>"
      ]
     },
     "execution_count": 15,
     "metadata": {},
     "output_type": "execute_result"
    },
    {
     "data": {
      "image/png": "[encoded data removed]",
      "text/plain": [
       "<Figure size 864x576 with 2 Axes>"
      ]
     },
     "metadata": {
      "needs_background": "light"
     },
     "output_type": "display_data"
    }
   ],
   "source": [
    "corr = vispremv.corr()\n",
    "kot = corr[abs( corr ) >= .5]\n",
    "plt.figure( figsize = ( 12,8 ) )\n",
    "sns.heatmap( kot, cmap = \"Blues\" )"
   ]
  },
  {
   "cell_type": "markdown",
   "metadata": {
    "id": "sRfOyXuY36Sp"
   },
   "source": []
  },
  {
   "cell_type": "code",
   "execution_count": 16,
   "metadata": {
    "colab": {
     "base_uri": "https://localhost:8080/"
    },
    "id": "F1lNDA076F4F",
    "outputId": "bdf24cb9-346a-47e9-8e58-c5a62da31716"
   },
   "outputs": [
    {
     "name": "stdout",
     "output_type": "stream",
     "text": [
      "Warning: Maximum number of iterations has been exceeded.\n",
      "                         Results: Logit\n",
      "=================================================================\n",
      "Model:              Logit            Pseudo R-squared: 0.184     \n",
      "Dependent Variable: CARVP            AIC:              911.8644  \n",
      "Date:               2021-09-27 17:59 BIC:              945.1873  \n",
      "No. Observations:   863              Log-Likelihood:   -448.93   \n",
      "Df Model:           6                LL-Null:          -550.23   \n",
      "Df Residuals:       856              LLR p-value:      5.3104e-41\n",
      "Converged:          0.0000           Scale:            1.0000    \n",
      "No. Iterations:     500.0000                                     \n",
      "------------------------------------------------------------------\n",
      "              Coef.   Std.Err.     z      P>|z|    [0.025   0.975]\n",
      "------------------------------------------------------------------\n",
      "SEXEQ_Shom    1.0609    0.1810    5.8604  0.0000   0.7061   1.4157\n",
      "FAMIQ_Fcou   -0.5783    0.1744   -3.3152  0.0009  -0.9202  -0.2364\n",
      "PCSPQ_Pcad    2.5033    0.8577    2.9186  0.0035   0.8222   4.1843\n",
      "PCSPQ_Pemp   -0.3987    0.2304   -1.7305  0.0835  -0.8502   0.0529\n",
      "PCSPQ_Pint    0.0588    0.2155    0.2729  0.7849  -0.3635   0.4811\n",
      "PCSPQ_Pouv   -1.0325    0.1917   -5.3861  0.0000  -1.4082  -0.6568\n",
      "PCSPQ_Psan   -2.7738    0.2585  -10.7293  0.0000  -3.2805  -2.2671\n",
      "=================================================================\n",
      "\n"
     ]
    },
    {
     "name": "stderr",
     "output_type": "stream",
     "text": [
      "C:\\Users\\Poste-PC\\miniconda3\\envs\\math4ml\\lib\\site-packages\\statsmodels\\base\\model.py:566: ConvergenceWarning: Maximum Likelihood optimization failed to converge. Check mle_retvals\n",
      "  warnings.warn(\"Maximum Likelihood optimization failed to \"\n"
     ]
    }
   ],
   "source": [
    "import statsmodels.api as sm\n",
    "logit_model = sm.Logit( yApp ,xApp.loc[:,~xApp.columns.duplicated()] )\n",
    "result = logit_model.fit( maxiter = 500, method = 'nm' )\n",
    "print( result.summary2() )"
   ]
  },
  {
   "cell_type": "code",
   "execution_count": 17,
   "metadata": {
    "colab": {
     "base_uri": "https://localhost:8080/",
     "height": 424
    },
    "id": "dpRnBYN6DW6u",
    "outputId": "c26c52f7-9ef8-4b8b-ea8b-be00a01b1984"
   },
   "outputs": [
    {
     "data": {
      "text/html": [
       "<div>\n",
       "<style scoped>\n",
       "    .dataframe tbody tr th:only-of-type {\n",
       "        vertical-align: middle;\n",
       "    }\n",
       "\n",
       "    .dataframe tbody tr th {\n",
       "        vertical-align: top;\n",
       "    }\n",
       "\n",
       "    .dataframe thead th {\n",
       "        text-align: right;\n",
       "    }\n",
       "</style>\n",
       "<table border=\"1\" class=\"dataframe\">\n",
       "  <thead>\n",
       "    <tr style=\"text-align: right;\">\n",
       "      <th></th>\n",
       "      <th>SEXEQ_Shom</th>\n",
       "      <th>FAMIQ_Fcou</th>\n",
       "      <th>PCSPQ_Pcad</th>\n",
       "      <th>PCSPQ_Pemp</th>\n",
       "      <th>PCSPQ_Pint</th>\n",
       "      <th>PCSPQ_Pouv</th>\n",
       "      <th>PCSPQ_Psan</th>\n",
       "      <th>SEXEQ_Shom</th>\n",
       "      <th>FAMIQ_Fcou</th>\n",
       "      <th>PCSPQ_Pcad</th>\n",
       "      <th>PCSPQ_Pemp</th>\n",
       "      <th>PCSPQ_Pint</th>\n",
       "      <th>PCSPQ_Pouv</th>\n",
       "      <th>PCSPQ_Psan</th>\n",
       "    </tr>\n",
       "  </thead>\n",
       "  <tbody>\n",
       "    <tr>\n",
       "      <th>571101</th>\n",
       "      <td>0</td>\n",
       "      <td>1</td>\n",
       "      <td>0</td>\n",
       "      <td>0</td>\n",
       "      <td>0</td>\n",
       "      <td>0</td>\n",
       "      <td>1</td>\n",
       "      <td>0</td>\n",
       "      <td>1</td>\n",
       "      <td>0</td>\n",
       "      <td>0</td>\n",
       "      <td>0</td>\n",
       "      <td>0</td>\n",
       "      <td>1</td>\n",
       "    </tr>\n",
       "    <tr>\n",
       "      <th>5060351</th>\n",
       "      <td>1</td>\n",
       "      <td>1</td>\n",
       "      <td>0</td>\n",
       "      <td>0</td>\n",
       "      <td>1</td>\n",
       "      <td>0</td>\n",
       "      <td>0</td>\n",
       "      <td>1</td>\n",
       "      <td>1</td>\n",
       "      <td>0</td>\n",
       "      <td>0</td>\n",
       "      <td>1</td>\n",
       "      <td>0</td>\n",
       "      <td>0</td>\n",
       "    </tr>\n",
       "    <tr>\n",
       "      <th>1055422</th>\n",
       "      <td>1</td>\n",
       "      <td>0</td>\n",
       "      <td>0</td>\n",
       "      <td>0</td>\n",
       "      <td>0</td>\n",
       "      <td>0</td>\n",
       "      <td>1</td>\n",
       "      <td>1</td>\n",
       "      <td>0</td>\n",
       "      <td>0</td>\n",
       "      <td>0</td>\n",
       "      <td>0</td>\n",
       "      <td>0</td>\n",
       "      <td>1</td>\n",
       "    </tr>\n",
       "    <tr>\n",
       "      <th>2447030</th>\n",
       "      <td>0</td>\n",
       "      <td>1</td>\n",
       "      <td>0</td>\n",
       "      <td>0</td>\n",
       "      <td>0</td>\n",
       "      <td>0</td>\n",
       "      <td>1</td>\n",
       "      <td>0</td>\n",
       "      <td>1</td>\n",
       "      <td>0</td>\n",
       "      <td>0</td>\n",
       "      <td>0</td>\n",
       "      <td>0</td>\n",
       "      <td>1</td>\n",
       "    </tr>\n",
       "    <tr>\n",
       "      <th>3244536</th>\n",
       "      <td>0</td>\n",
       "      <td>0</td>\n",
       "      <td>0</td>\n",
       "      <td>0</td>\n",
       "      <td>0</td>\n",
       "      <td>1</td>\n",
       "      <td>0</td>\n",
       "      <td>0</td>\n",
       "      <td>0</td>\n",
       "      <td>0</td>\n",
       "      <td>0</td>\n",
       "      <td>0</td>\n",
       "      <td>1</td>\n",
       "      <td>0</td>\n",
       "    </tr>\n",
       "    <tr>\n",
       "      <th>...</th>\n",
       "      <td>...</td>\n",
       "      <td>...</td>\n",
       "      <td>...</td>\n",
       "      <td>...</td>\n",
       "      <td>...</td>\n",
       "      <td>...</td>\n",
       "      <td>...</td>\n",
       "      <td>...</td>\n",
       "      <td>...</td>\n",
       "      <td>...</td>\n",
       "      <td>...</td>\n",
       "      <td>...</td>\n",
       "      <td>...</td>\n",
       "      <td>...</td>\n",
       "    </tr>\n",
       "    <tr>\n",
       "      <th>3241325</th>\n",
       "      <td>0</td>\n",
       "      <td>0</td>\n",
       "      <td>0</td>\n",
       "      <td>1</td>\n",
       "      <td>0</td>\n",
       "      <td>0</td>\n",
       "      <td>0</td>\n",
       "      <td>0</td>\n",
       "      <td>0</td>\n",
       "      <td>0</td>\n",
       "      <td>1</td>\n",
       "      <td>0</td>\n",
       "      <td>0</td>\n",
       "      <td>0</td>\n",
       "    </tr>\n",
       "    <tr>\n",
       "      <th>3462789</th>\n",
       "      <td>0</td>\n",
       "      <td>1</td>\n",
       "      <td>0</td>\n",
       "      <td>1</td>\n",
       "      <td>0</td>\n",
       "      <td>0</td>\n",
       "      <td>0</td>\n",
       "      <td>0</td>\n",
       "      <td>1</td>\n",
       "      <td>0</td>\n",
       "      <td>1</td>\n",
       "      <td>0</td>\n",
       "      <td>0</td>\n",
       "      <td>0</td>\n",
       "    </tr>\n",
       "    <tr>\n",
       "      <th>3244235</th>\n",
       "      <td>1</td>\n",
       "      <td>1</td>\n",
       "      <td>0</td>\n",
       "      <td>1</td>\n",
       "      <td>0</td>\n",
       "      <td>0</td>\n",
       "      <td>0</td>\n",
       "      <td>1</td>\n",
       "      <td>1</td>\n",
       "      <td>0</td>\n",
       "      <td>1</td>\n",
       "      <td>0</td>\n",
       "      <td>0</td>\n",
       "      <td>0</td>\n",
       "    </tr>\n",
       "    <tr>\n",
       "      <th>561871</th>\n",
       "      <td>0</td>\n",
       "      <td>1</td>\n",
       "      <td>0</td>\n",
       "      <td>0</td>\n",
       "      <td>0</td>\n",
       "      <td>1</td>\n",
       "      <td>0</td>\n",
       "      <td>0</td>\n",
       "      <td>1</td>\n",
       "      <td>0</td>\n",
       "      <td>0</td>\n",
       "      <td>0</td>\n",
       "      <td>1</td>\n",
       "      <td>0</td>\n",
       "    </tr>\n",
       "    <tr>\n",
       "      <th>5084296</th>\n",
       "      <td>0</td>\n",
       "      <td>0</td>\n",
       "      <td>0</td>\n",
       "      <td>0</td>\n",
       "      <td>0</td>\n",
       "      <td>0</td>\n",
       "      <td>1</td>\n",
       "      <td>0</td>\n",
       "      <td>0</td>\n",
       "      <td>0</td>\n",
       "      <td>0</td>\n",
       "      <td>0</td>\n",
       "      <td>0</td>\n",
       "      <td>1</td>\n",
       "    </tr>\n",
       "  </tbody>\n",
       "</table>\n",
       "<p>200 rows × 14 columns</p>\n",
       "</div>"
      ],
      "text/plain": [
       "         SEXEQ_Shom  FAMIQ_Fcou  PCSPQ_Pcad  PCSPQ_Pemp  PCSPQ_Pint  \\\n",
       "571101            0           1           0           0           0   \n",
       "5060351           1           1           0           0           1   \n",
       "1055422           1           0           0           0           0   \n",
       "2447030           0           1           0           0           0   \n",
       "3244536           0           0           0           0           0   \n",
       "...             ...         ...         ...         ...         ...   \n",
       "3241325           0           0           0           1           0   \n",
       "3462789           0           1           0           1           0   \n",
       "3244235           1           1           0           1           0   \n",
       "561871            0           1           0           0           0   \n",
       "5084296           0           0           0           0           0   \n",
       "\n",
       "         PCSPQ_Pouv  PCSPQ_Psan  SEXEQ_Shom  FAMIQ_Fcou  PCSPQ_Pcad  \\\n",
       "571101            0           1           0           1           0   \n",
       "5060351           0           0           1           1           0   \n",
       "1055422           0           1           1           0           0   \n",
       "2447030           0           1           0           1           0   \n",
       "3244536           1           0           0           0           0   \n",
       "...             ...         ...         ...         ...         ...   \n",
       "3241325           0           0           0           0           0   \n",
       "3462789           0           0           0           1           0   \n",
       "3244235           0           0           1           1           0   \n",
       "561871            1           0           0           1           0   \n",
       "5084296           0           1           0           0           0   \n",
       "\n",
       "         PCSPQ_Pemp  PCSPQ_Pint  PCSPQ_Pouv  PCSPQ_Psan  \n",
       "571101            0           0           0           1  \n",
       "5060351           0           1           0           0  \n",
       "1055422           0           0           0           1  \n",
       "2447030           0           0           0           1  \n",
       "3244536           0           0           1           0  \n",
       "...             ...         ...         ...         ...  \n",
       "3241325           1           0           0           0  \n",
       "3462789           1           0           0           0  \n",
       "3244235           1           0           0           0  \n",
       "561871            0           0           1           0  \n",
       "5084296           0           0           0           1  \n",
       "\n",
       "[200 rows x 14 columns]"
      ]
     },
     "execution_count": 17,
     "metadata": {},
     "output_type": "execute_result"
    }
   ],
   "source": [
    "xTest"
   ]
  },
  {
   "cell_type": "markdown",
   "metadata": {
    "id": "wTdSP5b5BZ7Z"
   },
   "source": [
    "With the classic logistic regression method, the matrix of predictors $X$ is not singular because of high correlation (see below) and is thus not invertible. The gradient descent estimates are not consistent and we need to used to a penalyzed version of the logistic regression using Lasso or Ridge.  "
   ]
  },
  {
   "cell_type": "code",
   "execution_count": 18,
   "metadata": {
    "colab": {
     "base_uri": "https://localhost:8080/",
     "height": 747
    },
    "id": "TJKU9owxAVv0",
    "outputId": "fedc3c1b-ec13-4155-f46f-41636a6c38a6"
   },
   "outputs": [
    {
     "data": {
      "text/plain": [
       "<seaborn.matrix.ClusterGrid at 0x87794a7100>"
      ]
     },
     "execution_count": 18,
     "metadata": {},
     "output_type": "execute_result"
    },
    {
     "data": {
      "image/png": "[encoded data removed]",
      "text/plain": [
       "<Figure size 720x720 with 4 Axes>"
      ]
     },
     "metadata": {
      "needs_background": "light"
     },
     "output_type": "display_data"
    }
   ],
   "source": [
    "import seaborn as sns\n",
    "sns.clustermap( xApp.loc[:,~xApp.columns.duplicated() ].corr() )"
   ]
  },
  {
   "cell_type": "markdown",
   "metadata": {
    "id": "FxVTvznDFaa6"
   },
   "source": [
    "We hereby fit a Lasso Logit Regression Model in order to reduce the number of regressors considered in the prediction of Visa credit card ownership.\n",
    "In particular, the objective loss function is equal to the negative log-likelihood function $L(X;\\beta)$ added to a regularization parameter $\\lambda$ controling for the $X$ matricial size $p$ with the $L_1$ norm. The minimization problem thus involves the estimation of the new parameter $\\lambda$ prior to the predictors parameters $\\beta$.\n",
    "\n",
    "$min_{\\lambda, \\beta} S(\\lambda;\\beta) = L(X;\\beta) + \\lambda|\\beta|_{1}$ $\\space \\space \\space \\space \\space \\space \\space \\space \\space (1.1)$\n",
    "\n",
    "where $ L(X;\\beta) = -log(\\prod_{i:Y_i = 1} p(X_i) \\prod_{j:Y_j = 0} (1-p(X_j)) $\n",
    "and $p(X)=\\frac{e^{X^T\\beta}}{1 + e^{X^T\\beta}}$ \n",
    "\n",
    "which is equivalent to minimizing the cross-entropy loss function.\n",
    "Thanks to the log-transformation of the likelihood function, we recover a convex optimization problem that can be solved using gradient descent methods.\n",
    "\n",
    "The Lasso thus shrinks the $\\beta$ coefficient estimates towards zero, with some of those coefficient estimates being exactly equal to zero when $\\lambda$ goes to infinity. Provided that $\\lambda$ is chosen appropriately, the Lasso estimator $\\hat\\beta(\\lambda)$ is consistent. The method yields a $sparse$ model that calls for a cross-validation of the $\\lambda$ parameter estimate."
   ]
  },
  {
   "cell_type": "markdown",
   "metadata": {
    "id": "79184BI2P5hZ"
   },
   "source": [
    "The $k$-folded cross-validation consists in defining a grid of possible values for the $\\lambda$ parameter to explore, partitioning the training sample in $k=5$ sub-samples and fitting the loss function in (1.1) for a fixed value of $\\lambda$ on all partitions but partition $k$. For each value of $\\lambda$ defined by the grid, we sum the five residuals obtained, one cell of the grid at a time. We then compute the residuals sum of squares on the $ Grid(\\lambda) $ and minimize such convex function with respect to $\\lambda$."
   ]
  },
  {
   "cell_type": "markdown",
   "metadata": {
    "id": "EJbn3MUkWca6"
   },
   "source": [
    "To conclude, the Lasso coefficient can be thought as a constraint optimization program's solution. Indeed, it exactly corresponds to the vector of $p$ estimates that lead to the smallest cross-entropy, subject to the constraint that there is a budget $s$ for how large the estimates can be."
   ]
  },
  {
   "cell_type": "code",
   "execution_count": 19,
   "metadata": {
    "id": "HQq_FBurzztc"
   },
   "outputs": [],
   "source": [
    "from sklearn.linear_model import LogisticRegression\n",
    "# Grid of penalty parameters\n",
    "param = [ {\"C\": [ 0.5, 1, 5, 10, 12, 15, 30 ]} ] # dictionary of the values of C used for GridSearchCV\n",
    "# TODO\n",
    "# 1. Define a model (logistic regression)\n",
    "# 2. Use the penalty=\"l1\"\n",
    "# 3. Use GridSearchCV to obtain automatically the best regularization parameter \n",
    "# 4. In what follows, this method will be denoted by logitLasso !\n",
    "\n",
    "baseline_reg = LogisticRegression( penalty = 'l1',random_state = 0, solver = 'liblinear' ).fit( xApp, yApp )\n",
    "\n",
    "CV_reg =GridSearchCV(LogisticRegression( penalty = 'l1', solver = 'liblinear' ), param, cv = 5 )\n",
    "logitLasso = CV_reg.fit( xApp, yApp )\n"
   ]
  },
  {
   "cell_type": "code",
   "execution_count": null,
   "metadata": {
    "colab": {
     "base_uri": "https://localhost:8080/"
    },
    "id": "W8lxGldIzztd",
    "outputId": "02e216e5-7aea-45b9-a2e0-d9a49ffdae30"
   },
   "outputs": [],
   "source": [
    "# Computation of the loss\n",
    "print(\"Best learning rate = %f, Best parameter  = %s\" %\n",
    "      ( 1.-logitLasso.best_score_,logitLasso.best_params_ ) )\n"
   ]
  },
  {
   "cell_type": "code",
   "execution_count": null,
   "metadata": {
    "id": "G_vyqrMcRL6s"
   },
   "outputs": [],
   "source": [
    "CV_reg_2 =GridSearchCV(LogisticRegression( penalty = 'l1', solver = 'saga', max_iter = 5000  ), param, cv = 5 )\n",
    "logitLasso_2 = CV_reg_2.fit( xApp, yApp )\n",
    "#StandardScaler().fit_transform( vispremR ), y"
   ]
  },
  {
   "cell_type": "code",
   "execution_count": null,
   "metadata": {
    "colab": {
     "base_uri": "https://localhost:8080/"
    },
    "id": "raLZPbEKRYty",
    "outputId": "e3f017ae-6960-45a9-8d89-85e51287ce5a"
   },
   "outputs": [],
   "source": [
    "print(\"Best learning rate = %f, Best parameter  = %s\" %\n",
    "      ( 1.-logitLasso_2.best_score_,logitLasso_2.best_params_ ) )"
   ]
  },
  {
   "cell_type": "markdown",
   "metadata": {
    "id": "QTpjmh6Hzzte"
   },
   "source": [
    "Prediction error\n"
   ]
  },
  {
   "cell_type": "code",
   "execution_count": null,
   "metadata": {
    "colab": {
     "base_uri": "https://localhost:8080/"
    },
    "id": "XA_eOwnxzzte",
    "outputId": "184a940b-39e5-44cd-e59e-578bd93acea9"
   },
   "outputs": [],
   "source": [
    "# Prediction with the model\n",
    "yChap = logitLasso.predict( xTest )\n",
    "# TODO:  compute the  confusion matrix with the help of pd.crosstab\n",
    "table = pd.crosstab( yChap, yTest )\n",
    "print( table )\n",
    "\n",
    "# Error on the test set\n",
    "print(\"Test error - Logistic regression  Lasso = %f\" % ( 1-logitLasso.score( xTest, yTest ) ) )\n",
    "# the false negative is the most costly error: we predict no card when the individual actually has one\n",
    "# loss of a client"
   ]
  },
  {
   "cell_type": "markdown",
   "metadata": {
    "id": "zo_8DuT4zztf"
   },
   "source": [
    "#### *Ridge* Optimization \n",
    "On considère maintenant l'optimisation Ridge, ou la pénalité est proportionnelle à la norme 2 de l'estimateur (au carré)\n"
   ]
  },
  {
   "cell_type": "code",
   "execution_count": null,
   "metadata": {
    "id": "hTQgjc3Vzztf"
   },
   "outputs": [],
   "source": [
    "# Grid of penalty parameters\n",
    "param = [ {\"C\":[ 0.5,1,5,10,12,15,30 ]} ]\n",
    "# TODO\n",
    "# 1. Define a model (logistic regression)\n",
    "# 2. Use the penalty=\"l2\"\n",
    "# 3. Use GridSearchCV to obtain automatically the best regularization parameter \n",
    "# 4. In what follows, this method will be denoted by logitRidge!\n",
    "\n",
    "\n",
    "baseline_reg_ridge = LogisticRegression( penalty = 'l2',random_state = 0, solver = 'lbfgs', max_iter = 1000 ).fit( xApp, yApp )\n",
    "\n",
    "CV_reg_ridge = GridSearchCV( LogisticRegression( penalty = 'l2', solver='lbfgs' ), param, cv = 5 )\n",
    "logitRidge = CV_reg_ridge.fit( xApp, yApp )"
   ]
  },
  {
   "cell_type": "code",
   "execution_count": null,
   "metadata": {
    "colab": {
     "base_uri": "https://localhost:8080/"
    },
    "id": "vwoWpqcizztg",
    "outputId": "fa25034a-4a3a-4a06-aea5-20172c9ccb06"
   },
   "outputs": [],
   "source": [
    "# Error computation  \n",
    "print(\"Best score = %f, Best parameter = %s\" %\n",
    "      (1. - logitRidge.best_score_, logitRidge.best_params_))\n"
   ]
  },
  {
   "cell_type": "code",
   "execution_count": null,
   "metadata": {
    "colab": {
     "base_uri": "https://localhost:8080/"
    },
    "id": "8RHd7XIuzztg",
    "outputId": "2d523160-74a3-4271-c501-629fc36e7b6b"
   },
   "outputs": [],
   "source": [
    "# Prediction \n",
    "yChap = logitRidge.predict(xTest)\n",
    "\n",
    "#Todo confusion matrix \n",
    "\n",
    "\n",
    "# Error on the test set\n",
    "print(\"Erreur de test régression Ridge après validation croisée = %f\" % ( 1-logitRidge.score( xTest, yTest ) ) )"
   ]
  },
  {
   "cell_type": "code",
   "execution_count": null,
   "metadata": {
    "colab": {
     "base_uri": "https://localhost:8080/"
    },
    "id": "eVBJK7Ln4UZt",
    "outputId": "488ddae8-9533-40f6-a81e-36516461d212"
   },
   "outputs": [],
   "source": [
    "print( \"Erreur de test régression Ridge avant validation croisée = %f\" % ( 1 - baseline_reg_ridge.score( xTest, yTest ) ) )"
   ]
  },
  {
   "cell_type": "code",
   "execution_count": null,
   "metadata": {
    "colab": {
     "base_uri": "https://localhost:8080/"
    },
    "id": "eSHVVRtH44nQ",
    "outputId": "55d09cd4-d997-47cf-bc57-bf50f0a138e1"
   },
   "outputs": [],
   "source": [
    "# Prediction with the Ridge model\n",
    "yChap_ridge = baseline_reg_ridge.predict( xTest )\n",
    "# TODO:  compute the  confusion matrix with the help of pd.crosstab\n",
    "table_ridge = pd.crosstab( yChap_ridge, yTest )\n",
    "print( table_ridge )\n",
    "\n",
    "# Error on the test set\n",
    "print(\"Test error - Logistic regression  Ridge before cross validation = %f\" % ( 1-baseline_reg_ridge.score( xTest, yTest ) ) )\n",
    "# the false negative is the most costly error: we predict no card when the individual actually has one\n",
    "# loss of a client"
   ]
  },
  {
   "cell_type": "code",
   "execution_count": null,
   "metadata": {
    "colab": {
     "base_uri": "https://localhost:8080/"
    },
    "id": "NOBXUxPZ5UI8",
    "outputId": "d2d00563-aec5-4453-91fd-03ceae2f8426"
   },
   "outputs": [],
   "source": [
    "baseline_reg_ridge.get_params"
   ]
  },
  {
   "cell_type": "code",
   "execution_count": null,
   "metadata": {
    "colab": {
     "base_uri": "https://localhost:8080/"
    },
    "id": "wOIWBxrA5YUq",
    "outputId": "461e9db4-6337-49c1-bbd8-d2d194014c4f"
   },
   "outputs": [],
   "source": [
    "logitRidge.get_params"
   ]
  },
  {
   "cell_type": "code",
   "execution_count": null,
   "metadata": {
    "colab": {
     "base_uri": "https://localhost:8080/"
    },
    "id": "XV-E5haE-PPU",
    "outputId": "dfe6ba2c-70b2-41b8-ab15-3d37acc96a48"
   },
   "outputs": [],
   "source": [
    "from sklearn.metrics import accuracy_score, r2_score\n",
    "\n",
    "abs(r2_score(y_pred  = logitRidge.predict(xTest), y_true = yTest))\n",
    "\n"
   ]
  },
  {
   "cell_type": "markdown",
   "metadata": {
    "id": "8rGWzM9Tzztg"
   },
   "source": [
    "**Q** Note the prediction errors and compare them with the ones predicted by the cross validation step.\n",
    "\n",
    "### Interpretation\n",
    "\n",
    "LassoOpt produced by GridSearchCV does not record the values of the parameters learnt by the model. It is then necessary to launch another time this model with the optimal value of the parameter if we wish to show the values of the coefficients."
   ]
  },
  {
   "cell_type": "code",
   "execution_count": null,
   "metadata": {
    "colab": {
     "base_uri": "https://localhost:8080/"
    },
    "id": "VZfbh3Gpzzth",
    "outputId": "689b7f4e-fd91-4413-be0c-9b834814a93d"
   },
   "outputs": [],
   "source": [
    "LassoOpt = LogisticRegression(penalty = \"l1\",C = 12, solver = 'liblinear' )\n",
    "LassoOpt = LassoOpt.fit( xApp, yApp )\n",
    "# Storage of the coefficients\n",
    "vect_coef = np.matrix.transpose( LassoOpt.coef_ )\n",
    "vect_coef = vect_coef.ravel()\n",
    "#Show the most important 25 coefficients\n",
    "coef = pd.Series( abs( vect_coef ),index = xApp.columns ).sort_values( ascending = False ) \n",
    "print( coef )"
   ]
  },
  {
   "cell_type": "code",
   "execution_count": null,
   "metadata": {
    "colab": {
     "base_uri": "https://localhost:8080/",
     "height": 297
    },
    "id": "vMTUYzrOzzth",
    "outputId": "2c41d45d-4c7b-4ff9-c0c0-b56a8e0a0158"
   },
   "outputs": [],
   "source": [
    "plt.figure( figsize = ( 7,4 ) )\n",
    "coef.plot( kind = 'bar' )\n",
    "plt.title( 'Coeffients' ) \n",
    "plt.tight_layout()\n",
    "plt.show()"
   ]
  },
  {
   "cell_type": "markdown",
   "metadata": {
    "id": "plmejigrzzth"
   },
   "source": [
    "**Q** What are the important variables? How to draw some conclusion/interpretation?\n",
    "The most important variables are the socio-professional categories (i.e. executive), and the sex of the individual (i.e. male). \n",
    "Being a male executive thus seems to be highly correlated with card ownership. It is also posible that this first result reflects an overpresentation of male in executive branches. Since executive branches are associated with financial wealth and extensive asset management, it only makes sense to see the wealthiest individuals of the sample as more likely to own credit card. \n",
    "\n",
    "**Q** Is the Lasso penalty efficient?\n",
    "\n",
    "It would be interesting to compare with the *ridge* and *elastic net* model\n",
    "\n",
    "### ROC Curve"
   ]
  },
  {
   "cell_type": "code",
   "execution_count": null,
   "metadata": {
    "colab": {
     "base_uri": "https://localhost:8080/"
    },
    "id": "kmHkkqIXTChP",
    "outputId": "79c9c869-6212-447d-f076-c9a444052eb9"
   },
   "outputs": [],
   "source": [
    "from sklearn.linear_model import LogisticRegressionCV\n",
    "from sklearn.metrics import classification_report\n",
    "\n",
    "\n",
    "Logit_elastic_net = LogisticRegressionCV( cv = 5, penalty = 'elasticnet', l1_ratios = [0.1, 0.5, 0.9], solver = 'saga', max_iter = 5000  )\n",
    "Logit_elastic_net.fit( xApp, yApp )\n",
    "\n",
    "print(\"Logistic Regression: {} || Elasticnet: {}\".format(logitLasso.score( xApp, yApp ), Logit_elastic_net.score( xApp, yApp ) ) )\n",
    "\n",
    "# Print out some more metrics\n",
    "print( \"Logistic Regression\" )\n",
    "print( classification_report( yApp , logitLasso.predict( xApp ) ) )\n",
    "print( \"Elastic Net\" )\n",
    "print( classification_report( yApp, Logit_elastic_net.predict( xApp ) ) )"
   ]
  },
  {
   "cell_type": "code",
   "execution_count": null,
   "metadata": {
    "colab": {
     "base_uri": "https://localhost:8080/"
    },
    "id": "FNJ0zmaiU-M0",
    "outputId": "7c0062dd-4bb6-418d-e755-ab1c6238bea2"
   },
   "outputs": [],
   "source": [
    "print(\"Logistic Regression: {} || Elasticnet: {}\".format(logitRidge.score( xApp, yApp ), Logit_elastic_net.score( xApp, yApp ) ) )\n",
    "\n",
    "# Print out some more metrics\n",
    "print( \"Logistic Regression\" )\n",
    "print( classification_report( yApp , logitRidge.predict( xApp ) ) )\n",
    "print( \"Elastic Net\" )\n",
    "print( classification_report( yApp, Logit_elastic_net.predict( xApp ) ) )"
   ]
  },
  {
   "cell_type": "code",
   "execution_count": null,
   "metadata": {
    "colab": {
     "base_uri": "https://localhost:8080/",
     "height": 279
    },
    "id": "fhe8trCDzzth",
    "outputId": "085ca605-43e1-4b12-9c4a-90590d2b7cf2"
   },
   "outputs": [],
   "source": [
    "from sklearn.metrics import roc_curve\n",
    "listMethod = [ [\"Lasso\",logitLasso],[\"Ridge\",logitRidge] ]\n",
    "\n",
    "for method in enumerate( listMethod ):\n",
    "    probas_ = method[1][1].predict_proba( xTest )\n",
    "    fpr, tpr, thresholds = roc_curve( yTest, probas_[:,1] )\n",
    "    plt.plot( fpr, tpr, lw=1,label=\"%s\"%method[1][0] )\n",
    "plt.xlabel( 'False positive rate' )\n",
    "plt.ylabel( 'True positive rate' )\n",
    "plt.legend( loc=\"best\" )\n",
    "\n",
    "plt.show()"
   ]
  },
  {
   "cell_type": "markdown",
   "metadata": {
    "id": "Nf7KpbQnzzti"
   },
   "source": [
    "## Discriminant analysis\n",
    "Three methods are availables: parametric ones with LDA-QDA and a non parametric one (*k* nearest neighbor)."
   ]
  },
  {
   "cell_type": "code",
   "execution_count": null,
   "metadata": {
    "id": "y0yl_Rctzzti"
   },
   "outputs": [],
   "source": [
    "from sklearn import discriminant_analysis\n",
    "from sklearn.neighbors import KNeighborsClassifier"
   ]
  },
  {
   "cell_type": "markdown",
   "metadata": {
    "id": "lznnJwj9zzti"
   },
   "source": [
    "### Linear Discriminant Analysis (LDA)\n",
    "Estimation of the model (there is no feature selection step) and then prediction over the test set."
   ]
  },
  {
   "cell_type": "markdown",
   "metadata": {
    "id": "NHQhb8J-QsGQ"
   },
   "source": [
    "\n",
    "<p style='text-align: justify;'\n",
    "\n",
    "Linear Discriminant Analysis was first proposed by Fisher in 1936 as a method to predict (well separated) $k$ classes, in response to logistic regression model's instabilities. We hereby study the case of a two-category classification problem i.e., card-ownerniship or no. Using Bayes' Theorem to derive the best classifier, i.e., with the lowest possible $total$ error rate out of all classifiers (provided that the Gaussian model is correct): \n",
    "\n",
    "$P(Y=1| X=x)$ $= \\frac{{\\pi_k}{f_k}(x)}{\\sum \\limits_{l=1}^{K}{{\\pi_l}{f_l}}(x) } $ $ \\forall k = $  {$0;1$}      $\\space$ $\\space$ $\\space$ $\\space$ $\\space$  $\\space$ $\\space$ ($1.1$)\n",
    "\n",
    "\n",
    "such that \n",
    "\n",
    "${\\pi_k}$ being the prior probability that a random chosen observation belongs to the class of card-owners coded as $k=1$ \n",
    "\n",
    "${f_k}(X)= P(X=x| Y=k)$  being the conditional density function of $X$ for an observation belonging to the $k^{th}$ class $ \\forall k = $  {$0;1$}\n",
    "\n",
    "\n",
    "We thus estimate prior ${\\pi_k}$ and the conditional probability density function ${{f_k}}(X)$ by $\\hat{\\pi_k}$ and  $\\hat{{f_k}}(X)$ respectively in order to plug them in the posterior $(1.1)$. \n",
    "\n",
    "We assume that the predictors $X$ are normally distributed according to a $N(\\mu_k, \\Sigma)$ with a class-specific mean-vector of size ($k$x$1$) and homoskedastic, that is, there is a common covariance matrix $\\Sigma$ of size ($p$x$p$) across both classes. We plug the resulting multivariate gaussian distribution function in $(1)$ as the $\\hat{{f_k}}(X)$.\n",
    "The unbiased maximum likelihood estimates  $\\hat\\mu_k$ and $\\hat\\sigma^2$ for $\\mu_k$ and $\\sigma^2$ are used to compute ${{f_k}}(X)$ $ \\forall k, \\space \\space  \\forall p  $: \n",
    "\n",
    "\n",
    "$\\hat\\mu_{k,p} = \\frac{1}{n_k}\\sum \\limits_{i:y_i =k}{}x_{i,p}$ \n",
    "\n",
    "$\\hat\\Sigma = \\frac{1}{n_K}(x_i - \\hat\\mu_k)^T(x_i - \\hat\\mu_k)\n",
    "  \\forall k = $  {$0;1$} $ \\space \\space \\space \\space \\space  \\space \\space (1.2)$\n",
    "\n",
    "\n",
    "Naturally, $\\hat{\\pi_k}$ is equal to the empirical sample share of individual belonging to class $k$:\n",
    "\n",
    "\n",
    "$\\hat{\\pi_k}$ = $\\frac{n_k}{n} \\forall k = $  {$0;1$} $\\space$ $\\space$ $\\space$ $\\space$ $\\space$  $\\space$ $\\space$ ($1.3$)\n",
    "\n",
    "\n",
    "The Bayes classifier thus assigns an observation $X=x$ to the class for which the estimate $\\hat{P}(Y=1| X=x)$ is largest (i.e. greater than $1/2$).\n",
    "Taking the log of ($1.1$) with $\\hat{{f_k}}(X)$ and $\\hat{\\pi_k}$ and simplifying the constant terms yields the following Bayes decision boundary rule: \n",
    "\n",
    "\"$Assign$ $y_i$ $to$ $k=1$ $\\iff$ $2x^T(\\mu_1 - \\mu_2) + log(\\pi_1) - log(\\pi_2) \\ge {\\mu_1}^T{\\mu_1} - {\\mu_2}^T{\\mu_2}$ and to $k=0$ otherwise.\"  ($1.4$)\n",
    "\n",
    "\n",
    "The Bayes decision boundary thus corresponds to the point where \n",
    "$ x= 2(\\mu_1 - \\mu_2)^{-1}({\\mu_1}^T{\\mu_1} - {\\mu_2}^T{\\mu_2} -log(\\frac{\\pi_1}{\\pi_2})) = \\frac{1}{2}[({\\mu_1 + \\mu_2})-(\\mu_1 - \\mu_2)^{-1}({log(\\frac{\\pi_1}{\\pi_2})})]$ $\\space$ $\\space$ $\\space$ $\\space$ $\\space$  $\\space$ $\\space$ ($1.5$)\n",
    "\n",
    "The $LDA$ classifier plugs the estimates given in $(1.2)$ and $(1.3)$ into ($1.4$) in order to assign an observation $X=x$ to the most probable class.\n",
    "\n",
    "The performance metric of interest here is the test error rate (not be mistaken with the training error rate). We expect the classifier to perform worse if we were to predict a new set of individuals would own credit cards or not. Indeed, the fitting of the model i.e. the parameters estimation is specifically done on the training set. Nonetheles, the train test split has been randomized and the ratio of parameters $p$ to number of samples $n$ as $\\rho= \\frac{14}{1063}=0.013$ is close to 0 so we do not expect overfitting. \n",
    "\n",
    "To that extent, a bank or a credit card company might be particulary sensitive to false negatives, that is, individuals who $are$ card owners but who are misclassified as $non-card$ $owners$ by the $LDA$ classifiers.\n",
    "\n",
    "\n",
    "It might be that the initial threshold of $50%$ for the posterior probability in the two-class case fails short at meeting such needs. We could instead lower that threshold to say 20% in order to decrease the false negative rate, at the expense of an increase in the false positive rate that is less costly to a bank trying to grow its consumer base\n",
    "\n",
    "\n",
    "\n",
    "\n",
    "\n"
   ]
  },
  {
   "cell_type": "code",
   "execution_count": null,
   "metadata": {
    "colab": {
     "base_uri": "https://localhost:8080/"
    },
    "id": "kE5xXsIWCdis",
    "outputId": "c32cf5ee-affd-4a60-9bb0-a831f31f5ccc"
   },
   "outputs": [],
   "source": [
    "yApp.size"
   ]
  },
  {
   "cell_type": "code",
   "execution_count": null,
   "metadata": {
    "colab": {
     "base_uri": "https://localhost:8080/"
    },
    "id": "7781ukIPDHvM",
    "outputId": "dec232a5-2fbe-4ff7-bccd-b8376ef0aa9b"
   },
   "outputs": [],
   "source": [
    "yApp[yApp==1]"
   ]
  },
  {
   "cell_type": "code",
   "execution_count": null,
   "metadata": {
    "id": "ANc-r6LGELpA"
   },
   "outputs": [],
   "source": [
    "def prior(df):\n",
    "  ratio = df[df==1].size/df.size\n",
    "  return ratio"
   ]
  },
  {
   "cell_type": "code",
   "execution_count": null,
   "metadata": {
    "colab": {
     "base_uri": "https://localhost:8080/"
    },
    "id": "t-lrVgPrEr_O",
    "outputId": "82855b7c-7bf8-49f1-eb16-ccacd845c3c8"
   },
   "outputs": [],
   "source": [
    "prior(yApp)"
   ]
  },
  {
   "cell_type": "code",
   "execution_count": null,
   "metadata": {
    "colab": {
     "base_uri": "https://localhost:8080/"
    },
    "id": "OmcjK1fzzztj",
    "outputId": "728bf7fd-4c4d-4ad0-af9f-e7c787fae6d8"
   },
   "outputs": [],
   "source": [
    "# TODO:\n",
    "# 1. Define the model ('lda' as discriminant_analysis.LinearDiscriminantAnalysis)\n",
    "# 2. Fit the model\n",
    "# 3. Predict on the test set\n",
    "# 4. Compute the confusion matrix\n",
    " \n",
    "lda = discriminant_analysis.LinearDiscriminantAnalysis( solver = 'svd', shrinkage = None, priors = None, n_components = None, store_covariance = False, tol = 0.0001 )\n",
    "lda.fit(xApp, yApp)\n",
    "# Prediction on the test set\n",
    "print(\"Erreur de test lda = %f\" % (1-lda.score(xTest,yTest)))\n"
   ]
  },
  {
   "cell_type": "code",
   "execution_count": null,
   "metadata": {
    "colab": {
     "base_uri": "https://localhost:8080/"
    },
    "id": "WJds2Kd4KW9P",
    "outputId": "67aa1dd3-ae83-47ee-fa0a-da4ec8f3b377"
   },
   "outputs": [],
   "source": [
    "lda.explained_variance_ratio_"
   ]
  },
  {
   "cell_type": "code",
   "execution_count": null,
   "metadata": {
    "colab": {
     "base_uri": "https://localhost:8080/",
     "height": 112
    },
    "id": "D3suK-2HEGPo",
    "outputId": "4987e7ee-5f67-42c7-9465-ae92892c78d4"
   },
   "outputs": [],
   "source": [
    "pd.DataFrame( confusion_matrix( yTest, lda.predict( xTest ) ) )"
   ]
  },
  {
   "cell_type": "code",
   "execution_count": null,
   "metadata": {
    "colab": {
     "base_uri": "https://localhost:8080/",
     "height": 279
    },
    "id": "1A8oZfO4EmMB",
    "outputId": "3a600b72-8cf5-4a5f-a59a-755749caf2f4"
   },
   "outputs": [],
   "source": [
    "import matplotlib.pyplot as plt\n",
    "from sklearn.metrics import plot_confusion_matrix\n",
    "plot_confusion_matrix( lda, xTest, yTest, display_labels = yTest.values, cmap = plt.cm.Blues )  \n",
    "plt.show()"
   ]
  },
  {
   "cell_type": "markdown",
   "metadata": {
    "id": "Q9xb4yREzztk"
   },
   "source": [
    "**Q** What about the quality of the prediction? The ability of interpret the method?\n",
    "\n",
    "**Q** What is the meaning of the  *warning*? What are the variables involved by this warning?\n",
    "### Quadratic Discriminant Analysis"
   ]
  },
  {
   "cell_type": "code",
   "execution_count": null,
   "metadata": {
    "colab": {
     "base_uri": "https://localhost:8080/"
    },
    "id": "zW-C5zF2zztk",
    "outputId": "02c17736-9952-48f9-d0a9-032348455820"
   },
   "outputs": [],
   "source": [
    "# Same procedure as the one of LDA for QDA\n",
    "\n",
    "# TODO:\n",
    "# 1. Define the model ('qda' as discriminant_analysis.LinearDiscriminantAnalysis)\n",
    "# 2. Fit the model\n",
    "# 3. Predict on the test set\n",
    "# 4. Compute the confusion matrix\n",
    " \n",
    "qda = discriminant_analysis.QuadraticDiscriminantAnalysis( tol = 0.0001 )\n",
    "qda.fit( xApp, yApp )\n",
    "# Prediction on the test set\n",
    "print( \"Erreur de test lda = %f\" % ( 1-qda.score(xTest,yTest ) ) )\n"
   ]
  },
  {
   "cell_type": "code",
   "execution_count": null,
   "metadata": {
    "colab": {
     "base_uri": "https://localhost:8080/",
     "height": 227
    },
    "id": "QRSRh-caax6z",
    "outputId": "75a3d689-bf74-4472-e352-8b5d1f501f58"
   },
   "outputs": [],
   "source": [
    "import matplotlib.pyplot as plt\n",
    "from sklearn.metrics import plot_confusion_matrix\n",
    "plot_confusion_matrix( qda, xTest, yTest, display_labels = xApp.columns, cmap = plt.cm.Pinks, normalize = normlalize )  \n",
    "plt.show()"
   ]
  },
  {
   "cell_type": "markdown",
   "metadata": {
    "id": "esh6ztARzztk"
   },
   "source": [
    "### K Nearest Neighbors"
   ]
  },
  {
   "cell_type": "code",
   "execution_count": null,
   "metadata": {
    "id": "rrt8aIBhzztk"
   },
   "outputs": [],
   "source": [
    "# TODO\n",
    "# 1. Define the model with the 10 nearest neighbors (use KNeighborsClassifier)\n",
    "# 2. Fit the model\n",
    "# 3. Predict on the test set\n",
    "# 4. Show the confusion matrix \n",
    "\n",
    "print(table)\n",
    "# Prediction error on the test set\n",
    "print(\"Erreur de test knn = %f\" % (1-disKnn.score(xTest,yTest)))\n"
   ]
  },
  {
   "cell_type": "code",
   "execution_count": null,
   "metadata": {
    "id": "IzB3aBs3zztl"
   },
   "outputs": [],
   "source": [
    "#Optimization of the smoothing parameter (number of neighbors) k\n",
    "#Grid \n",
    "param_grid=[{\"n_neighbors\":list(range(1,15))}]\n",
    "disKnn=GridSearchCV(KNeighborsClassifier(),param_grid,cv=5,n_jobs=-1)\n",
    "disKnnOpt=disKnn.fit(xApp, yApp) # GridSearchCV is itself an estimator \n",
    "# Optimal parameter \n",
    "disKnnOpt.best_params_[\"n_neighbors\"]\n",
    "print(\"Best score = %f, Best parameter = %s\" % (1.-disKnnOpt.best_score_,disKnnOpt.best_params_))"
   ]
  },
  {
   "cell_type": "code",
   "execution_count": null,
   "metadata": {
    "id": "aDRONWXpzztl"
   },
   "outputs": [],
   "source": [
    "# Prediction on the test set \n",
    "yChap = disKnnOpt.predict(xTest)\n",
    "# Confusion matrix \n",
    "table=pd.crosstab(yChap,yTest)\n",
    "print(table)\n",
    "\n",
    "# Estimation of the prediction error on the test set \n",
    "print(\"Error rate of knn_opt = %f\" % (1-disKnnOpt.score(xTest,yTest)))"
   ]
  },
  {
   "cell_type": "markdown",
   "metadata": {
    "id": "Fg1mHDKczztm"
   },
   "source": [
    "ROC curve"
   ]
  },
  {
   "cell_type": "code",
   "execution_count": null,
   "metadata": {
    "id": "xk2C2-Sbzztm"
   },
   "outputs": [],
   "source": [
    "from sklearn.metrics import roc_curve\n",
    "# List of the methods \n",
    "listMethod=[[\"lda\",disLin],[\"qda\",disQua],[\"knn\",disKnnOpt]]\n",
    "# Curves computation\n",
    "for method in enumerate(listMethod):\n",
    "    probas_ = method[1][1].predict_proba(xTest)\n",
    "    fpr, tpr, thresholds = roc_curve(yTest, probas_[:,1])\n",
    "    plt.plot(fpr, tpr, lw=1,label=\"%s\"%method[1][0])\n",
    "plt.xlabel('False positive rate')\n",
    "plt.ylabel('True positive rate')\n",
    "plt.legend(loc=\"best\")\n",
    "plt.show()"
   ]
  },
  {
   "cell_type": "markdown",
   "metadata": {
    "id": "3rUl53Pqzztm"
   },
   "source": [
    "## [Binary decision trees](https://en.wikipedia.org/wiki/Decision_tree_learning)\n",
    "Binary trees are competing well versu logistic regression and are commonly used in datascience. In particular, their interpretation are simple, which is a great advantage of this method. However, the optimization of the parameters involved in this method is somewhat versatile."
   ]
  },
  {
   "cell_type": "code",
   "execution_count": null,
   "metadata": {
    "id": "Lcv6a0rZzztm"
   },
   "outputs": [],
   "source": [
    "from sklearn.tree import DecisionTreeClassifier"
   ]
  },
  {
   "cell_type": "code",
   "execution_count": null,
   "metadata": {
    "id": "ntKX4A6Szztn"
   },
   "outputs": [],
   "source": [
    "# Define and fit the model\n",
    "# TODO"
   ]
  },
  {
   "cell_type": "markdown",
   "metadata": {
    "id": "OoyRkvqSzztn"
   },
   "source": [
    "**Q** What is the default homogeneity criterion used by this method?\n",
    "\n",
    "**Q** What is the major drawback of the pruning step in  `Scikkit-learn` when compared to the  `rpart` library in R?"
   ]
  },
  {
   "cell_type": "code",
   "execution_count": null,
   "metadata": {
    "id": "jDx159w-zzt0"
   },
   "outputs": [],
   "source": [
    "# Optimization of the depth of the tree\n",
    "#TODO\n",
    "\n",
    "# optimal parameter\n",
    "print(\"Meilleur score = %f, Meilleur paramètre = %s\" % (1. - treeOpt.best_score_,treeOpt.best_params_))\n"
   ]
  },
  {
   "cell_type": "code",
   "execution_count": null,
   "metadata": {
    "id": "ldrincNzzzt1"
   },
   "outputs": [],
   "source": [
    "# Prediction on the test set\n",
    "yChap = treeOpt.predict(xTest)\n",
    "# Confusion matrix\n",
    "table=pd.crosstab(yChap,yTest)\n",
    "print(table)# Prediction error on the test set\n",
    "print(\" Prediction error on the test set = %f\" % (1-treeOpt.score(xTest,yTest)))"
   ]
  },
  {
   "cell_type": "code",
   "execution_count": null,
   "metadata": {
    "id": "pXZLzvQJzzt2"
   },
   "outputs": [],
   "source": [
    "# Visualization\n",
    "from sklearn.tree import export_graphviz\n",
    "from sklearn.externals.six import StringIO  \n",
    "import pydotplus\n",
    "treeG=DecisionTreeClassifier(max_depth=treeOpt.best_params_['max_depth'])\n",
    "treeG.fit(xApp,yApp)\n",
    "dot_data = StringIO() \n",
    "export_graphviz(treeG, out_file=dot_data) \n",
    "graph=pydotplus.graph_from_dot_data(dot_data.getvalue()) \n",
    "graph.write_png(\"treeOpt.png\")  "
   ]
  },
  {
   "cell_type": "code",
   "execution_count": null,
   "metadata": {
    "id": "VXLc7AHEzzt2"
   },
   "outputs": [],
   "source": [
    "from IPython.display import Image\n",
    "Image(filename='treeOpt.png')"
   ]
  },
  {
   "cell_type": "markdown",
   "metadata": {
    "id": "c3yDHBt7zzt2"
   },
   "source": [
    "### [Roc curve ROC](https://developers.google.com/machine-learning/crash-course/classification/roc-and-auc)\n",
    "Comparison of the previous methods\n",
    "\n",
    "The default threshold   (0.5) is not necessarily the best one, and it is necessary to compare the ROC curves."
   ]
  },
  {
   "cell_type": "code",
   "execution_count": null,
   "metadata": {
    "id": "N7vBaFrVzzt2"
   },
   "outputs": [],
   "source": [
    "# Liste of the  methods \n",
    "listMethod=[[\"Logit\",logitLasso],[\"lda\",disLin],[\"Arbre\",treeOpt]]\n",
    "# Roc curves \n",
    "for method in enumerate(listMethod):\n",
    "    probas_ = method[1][1].predict_proba(xTest)\n",
    "    fpr, tpr, thresholds = roc_curve(yTest, probas_[:,1])\n",
    "    plt.plot(fpr, tpr, lw=1,label=\"%s\"%method[1][0])\n",
    "plt.xlabel('False positive rate')\n",
    "plt.ylabel('True positive rate')\n",
    "plt.legend(loc=\"best\")\n",
    "plt.show()"
   ]
  },
  {
   "cell_type": "markdown",
   "metadata": {
    "id": "2ww3nsy5zzt3"
   },
   "source": [
    "Comment the results.\n",
    "\n",
    "**Q** Interest of the logistic regression when compared to the LDA?\n",
    "\n",
    "**Q** Consequence of the ROC curve crossing on the AUC evaluation?\n",
    "\n",
    "The size of the test set (200) is modest..."
   ]
  },
  {
   "cell_type": "markdown",
   "metadata": {
    "id": "t9PtxZDZzzt3"
   },
   "source": [
    "## [Aggregation methods](https://en.wikipedia.org/wiki/Ensemble_learning)\n",
    "We mainly compare here the three algorthms: *bagging, random forest, boosting*.\n",
    "\n",
    "### *Bagging*\n",
    "\n",
    "**Q** What is the default aggregated algorithm? \n",
    "\n",
    "**Q** What is the default number of estimators ? Is it necessary to optimize this number?"
   ]
  },
  {
   "cell_type": "code",
   "execution_count": null,
   "metadata": {
    "id": "MbJ2YHmUzzt3"
   },
   "outputs": [],
   "source": [
    "from sklearn.ensemble import BaggingClassifier\n",
    "bag= # Def model (nestim =100)\n",
    "bagC=bag.fit(xApp, yApp)\n",
    "# Prediction on the test set\n",
    "yChap = bagC.predict(xTest)\n",
    "# Confusion matrix\n",
    "table=pd.crosstab(yChap,yTest)\n",
    "print(table)\n",
    "\n",
    "# Prediction error on the test set\n",
    "print(\"Prediction error with bagging = %f\" % (1-bagC.score(xTest,yTest)))\n"
   ]
  },
  {
   "cell_type": "markdown",
   "metadata": {
    "id": "eRv9qorYzzt4"
   },
   "source": [
    "**Q** Run this previous cell several times. What do you think about the stability of the method and about the its reliability?\n",
    "\n",
    "### *Random forest*\n",
    "\n",
    "**Q** What is the parameter to be optimized for this algorithm? What is its default value?\n",
    "\n",
    "**Q** Is the number of trees a versatile parameter?"
   ]
  },
  {
   "cell_type": "code",
   "execution_count": null,
   "metadata": {
    "id": "ui8diWdxzzt4"
   },
   "outputs": [],
   "source": [
    "from sklearn.ensemble import RandomForestClassifier"
   ]
  },
  {
   "cell_type": "code",
   "execution_count": null,
   "metadata": {
    "id": "PtjrU0tozzt4"
   },
   "outputs": [],
   "source": [
    "# Optimization  of max_features\n",
    "param=[{\"max_features\":list(range(2,10,1))}]\n",
    "\n",
    "rf= # TODO DEF gridsearchCV\n",
    "rfOpt=rf.fit(xApp, yApp)\n",
    "# optimal parameter \n",
    "print(\"Best score = %f, Best parameter = %s\" % (1. - rfOpt.best_score_,rfOpt.best_params_))"
   ]
  },
  {
   "cell_type": "code",
   "execution_count": null,
   "metadata": {
    "id": "W4Zz1Ffszzt4"
   },
   "outputs": [],
   "source": [
    "# Prediction on the test set\n",
    "yChap = rfOpt.predict(xTest)\n",
    "# Confusion matrix\n",
    "table=pd.crosstab(yChap,yTest)\n",
    "print(table)\n",
    "\n",
    "# Prediction error on the test set\n",
    "print(\"Prediction error with  random forest opt -quantitative = %f\" % (1-rfOpt.score(xTest,yTest)))"
   ]
  },
  {
   "cell_type": "markdown",
   "metadata": {
    "id": "AnLJfrlczzt4"
   },
   "source": [
    "### *Gradient boosting*\n",
    "\n",
    "**Q** What is the historical *boosting* algorithm? Which one is used now?\n",
    "\n",
    "**Q** What are the important parameters to be tuned? How to calibrate them??\n",
    "\n",
    "**Q** What is the default value of the parameter that is not optimized below?"
   ]
  },
  {
   "cell_type": "code",
   "execution_count": null,
   "metadata": {
    "id": "RSKMtz23zzt5"
   },
   "outputs": [],
   "source": [
    "from sklearn.ensemble import GradientBoostingClassifier\n",
    "# Optimization of two parameters\n",
    "paramGrid = [\n",
    "  {'n_estimators': list(range(100,601,50)), 'learning_rate': [0.1,0.2,0.3,0.4]}\n",
    " ]\n",
    "gbmC= GridSearchCV(GradientBoostingClassifier(),paramGrid,cv=5,n_jobs=-1)\n",
    "gbmOpt=gbmC.fit(xApp, yApp)\n",
    "# Optimal parameters\n",
    "print(\"Best score = %f, Best parameters = %s\" % (1. - gbmOpt.best_score_,gbmOpt.best_params_))"
   ]
  },
  {
   "cell_type": "code",
   "execution_count": null,
   "metadata": {
    "id": "sSk8XVkCzzt5"
   },
   "outputs": [],
   "source": [
    "# Prediction on the test set\n",
    "yChap = gbmOpt.predict(xTest)\n",
    "# Confusion matrix\n",
    "table=pd.crosstab(yChap,yTest)\n",
    "print(table)\n",
    "\n",
    "# Prediction error on the test set\n",
    "print(\"Test error of gbm opt = %f\" % (1-gbmOpt.score(xTest,yTest)))"
   ]
  },
  {
   "cell_type": "markdown",
   "metadata": {
    "id": "rXT7rtALzzt5"
   },
   "source": [
    "### Courbes ROC"
   ]
  },
  {
   "cell_type": "code",
   "execution_count": null,
   "metadata": {
    "id": "5y9fQ5R_zzt5"
   },
   "outputs": [],
   "source": [
    "# List of the methods\n",
    "listMethod=[[\"Logit\",logitLasso],[\"lda\",disLin],[\"Arbre\",treeOpt],[\"RF\",rfOpt],[\"GBM\",gbmOpt]]\n",
    "# ROC curves computation \n",
    "for method in enumerate(listMethod):\n",
    "    probas_ = method[1][1].predict_proba(xTest)\n",
    "    fpr, tpr, thresholds = roc_curve(yTest, probas_[:,1])\n",
    "    plt.plot(fpr, tpr, lw=1,label=\"%s\"%method[1][0])\n",
    "plt.xlabel('False positive rate')\n",
    "plt.ylabel('True positive rate ')\n",
    "plt.legend(loc=\"best\")\n",
    "send(plt,17)\n",
    "plt.show()"
   ]
  },
  {
   "cell_type": "markdown",
   "metadata": {
    "id": "J5Tsoaj_zzt6"
   },
   "source": [
    "**Q** What is the best interpretable method? What is the best method?\n",
    "\n",
    "**Q** What can you say about the *extrem gradient boosting* ? Number of parameters to be tuned? In Python? In R? Its diffusion?\n",
    "\n",
    "**Exercice** Add the deep learning and SVM family of methods."
   ]
  }
 ],
 "metadata": {
  "colab": {
   "collapsed_sections": [
    "lznnJwj9zzti",
    "Q9xb4yREzztk",
    "esh6ztARzztk",
    "3rUl53Pqzztm",
    "t9PtxZDZzzt3"
   ],
   "name": "Apprent_Python_Visa_hide_nb_track.ipynb",
   "provenance": []
  },
  "kernelspec": {
   "display_name": "Python 3 (ipykernel)",
   "language": "python",
   "name": "python3"
  },
  "language_info": {
   "codemirror_mode": {
    "name": "ipython",
    "version": 3
   },
   "file_extension": ".py",
   "mimetype": "text/x-python",
   "name": "python",
   "nbconvert_exporter": "python",
   "pygments_lexer": "ipython3",
   "version": "3.9.7"
  }
 },
 "nbformat": 4,
 "nbformat_minor": 1
}
